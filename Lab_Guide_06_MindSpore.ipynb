{
  "nbformat": 4,
  "nbformat_minor": 0,
  "metadata": {
    "colab": {
      "name": "Lab Guide 06-MindSpore.ipynb",
      "private_outputs": true,
      "provenance": [],
      "collapsed_sections": [],
      "include_colab_link": true
    },
    "kernelspec": {
      "name": "python3",
      "display_name": "Python 3"
    },
    "accelerator": "GPU"
  },
  "cells": [
    {
      "cell_type": "markdown",
      "metadata": {
        "id": "view-in-github",
        "colab_type": "text"
      },
      "source": [
        "<a href=\"https://colab.research.google.com/github/thalisreboucas/Python-codes-ML/blob/main/Lab_Guide_06_MindSpore.ipynb\" target=\"_parent\"><img src=\"https://colab.research.google.com/assets/colab-badge.svg\" alt=\"Open In Colab\"/></a>"
      ]
    },
    {
      "cell_type": "markdown",
      "metadata": {
        "id": "jsLqqUd8escA"
      },
      "source": [
        "# Lab Guide 06 - Experimento com MindSpore\n",
        "\n",
        "Esse experimento tem por objetivo mostrar como usar MindSpore 0.7.0 para realizar uma tarefa coberta pelo **Lab Guide 05** com TensorFlow 2.x: classificação de dígitos manuscritos com o dataset MNIST. \n",
        "\n",
        "**Infelizmente, a distribuição de MindSpore ainda não é compatível com o Colaboratory, portanto todas as instruções aqui contidas devem ser executadas em uma máquina com Windows ou Ubuntu Linux.**\n",
        "\n",
        "**NOTA:** Este Lab Guide é uma adaptação direcionada do [tutorial oficial](https://www.mindspore.cn/tutorial/en/master/quick_start/quick_start.html) da plataforma MindSpore. Este material é disponibilizado para uso exclusivo pelos alunos do curso e não deve ser divulgado sem autorização prévia e expressa.\n",
        "\n",
        "**IMPORTANTE**: MindSpore faz uso extensivo de tecnologia de compilação JIT (*just in time*) em sua pipeline de processamento, ou seja, o código Python é transformado, otimizado e compilado em tempo de execução pelo motor de grafos subjacente. Consequentemente, os códigos atualmente não podem ser executados separadamente em células do Colab, mas como um arquivo único. Assim, a divisão do exemplo em células aqui apresentada deve ser vista pela perspectiva da didática."
      ]
    },
    {
      "cell_type": "markdown",
      "metadata": {
        "id": "nL-GiiYwmzef"
      },
      "source": [
        "## **[Passo 01]** **Ambiente Python**\n",
        "\n",
        "Recomendamos fortemente o uso de um gerenciador Python que controle um ambiente de execução separado para a sua experimentação, pois isso cria uma forma segura de lidar com pacotes, dependências e interpretação sem interferir com a configuração do seu sistema.\n",
        "\n",
        "No caso, utilizaremos [Miniconda](https://docs.conda.io/en/latest/miniconda.html) devido à sua simplicidade: siga as suas [instruções de instalação](https://docs.conda.io/en/latest/miniconda.html#installing) antes de prosseguir.\n",
        "\n"
      ]
    },
    {
      "cell_type": "markdown",
      "metadata": {
        "id": "fPxWWttsu9Lh"
      },
      "source": [
        "#### **Criando um ambiente Conda com Python 3.7.5**\n",
        "Abra um terminal, digite o seguinte comando e confirme:"
      ]
    },
    {
      "cell_type": "code",
      "metadata": {
        "id": "cwnaGMXS2XFY"
      },
      "source": [
        "conda create -n hcia-ai python=3.7.5"
      ],
      "execution_count": null,
      "outputs": []
    },
    {
      "cell_type": "markdown",
      "metadata": {
        "id": "GP_9_OBc2jRa"
      },
      "source": [
        "#### **Ativando o Ambiente**\n",
        "O comando anterior criou um ambiente chamado **hcia-ai**, que pode ser ativado da seguinte maneira:"
      ]
    },
    {
      "cell_type": "code",
      "metadata": {
        "id": "DrTNDpMg2hpH"
      },
      "source": [
        "conda activate hcia-ai"
      ],
      "execution_count": null,
      "outputs": []
    },
    {
      "cell_type": "markdown",
      "metadata": {
        "id": "E7qKKtX2vssi"
      },
      "source": [
        "A partir de então, os seus comandos Python e demais terão efeito sobre o ambiente configurado. No Linux, você deverá visualizar um prefixo **\\(hcia-ai\\)** no terminal, indicando que este ambiente está ativo. Proceda para instalação do MindSpore."
      ]
    },
    {
      "cell_type": "markdown",
      "metadata": {
        "id": "ObJlKN8Q2ogG"
      },
      "source": [
        "## **[Passo 02]** **Instalando MindSpore 0.7.0**\n",
        "A seguir descrevemos o processo de instalação para as plataformas Windows e Ubuntu Linux a partir de arquivos no formato Wheel (WHL), que é o padrão usado a distribuição de pacotes Python.\n",
        "\n",
        "Cobriremos as opções mais comuns, portanto o leitor interessado em outras versões da API, virtualização e demais \"sabores\" do MindSpore deve visitar o [site oficial](https://www.mindspore.cn/install/en) para maiores detalhes.\n",
        "\n",
        "A instalação é simples e é feita via terminal no seu sistema operacional."
      ]
    },
    {
      "cell_type": "markdown",
      "metadata": {
        "id": "beV22GzeL88B"
      },
      "source": [
        "### Instalação via **pip** para Windows."
      ]
    },
    {
      "cell_type": "code",
      "metadata": {
        "id": "AHtHcsBvL9rY"
      },
      "source": [
        "pip install https://ms-release.obs.cn-north-4.myhuaweicloud.com/0.7.0-beta/MindSpore/cpu/windows_x64/mindspore-0.7.0-cp37-cp37m-win_amd64.whl"
      ],
      "execution_count": null,
      "outputs": []
    },
    {
      "cell_type": "markdown",
      "metadata": {
        "id": "D60nAr2lL72c"
      },
      "source": [
        "### Instalação via **pip** para Unbuntu Linux"
      ]
    },
    {
      "cell_type": "code",
      "metadata": {
        "id": "d8qOcxnAslFK"
      },
      "source": [
        "pip install https://ms-release.obs.cn-north-4.myhuaweicloud.com/0.7.0-beta/MindSpore/cpu/ubuntu_x86/mindspore-0.7.0-cp37-cp37m-linux_x86_64.whl"
      ],
      "execution_count": null,
      "outputs": []
    },
    {
      "cell_type": "markdown",
      "metadata": {
        "id": "uyDpMSF8HP70"
      },
      "source": [
        "### **Avançado:** MindSpore para Ubuntu com suporte a GPU via CUDA 10.1\n",
        "\n",
        "Essa versão depende de uma configuração prévia dos drivers CUDA e que está a cargo do próprio usuário, sob seu *próprio risco e resposabilidade*. Recomendamos usar o ambiente.\n",
        "\n"
      ]
    },
    {
      "cell_type": "code",
      "metadata": {
        "id": "xjofXUYy3P6P"
      },
      "source": [
        "pip install https://ms-release.obs.cn-north-4.myhuaweicloud.com/0.7.0-beta/MindSpore/gpu/ubuntu_x86/cuda-10.1/mindspore_gpu-0.7.0-cp37-cp37m-linux_x86_64.whl"
      ],
      "execution_count": null,
      "outputs": []
    },
    {
      "cell_type": "markdown",
      "metadata": {
        "id": "yv2GId0F3XK1"
      },
      "source": [
        "### **Verificando a Instalação**\n",
        "No seu ambiente, use o seguinte comando para checar qual a versão do Python está sendo executada. Se não for a **3.7.5**, você provavelmente não está no ambiente correto! Ative o ambiente de acordo com as [instruções anteriores](#scrollTo=nL-GiiYwmzef&line=5&uniqifier=1)\n"
      ]
    },
    {
      "cell_type": "code",
      "metadata": {
        "id": "EHfwA7UW4ohc"
      },
      "source": [
        "python --version"
      ],
      "execution_count": null,
      "outputs": []
    },
    {
      "cell_type": "markdown",
      "metadata": {
        "id": "tzLkX5xY4qGP"
      },
      "source": [
        "Executemos o seguinte exemplo para verificar o funcionamento do MindSpore:"
      ]
    },
    {
      "cell_type": "code",
      "metadata": {
        "id": "Oc3uh89h3WW4"
      },
      "source": [
        "# usaremos NumPy para controle fino dos\n",
        "import numpy as np\n",
        "#\n",
        "import mindspore.context as context\n",
        "import mindspore.nn as nn\n",
        "from mindspore import Tensor\n",
        "from mindspore.ops import operations as P\n",
        "\n",
        "# configura execução em Graph Mode do MindSpore\n",
        "context.set_context(mode=context.GRAPH_MODE, device_target=\"CPU\")\n",
        "\n",
        "# define uma célula de multiplicação\n",
        "class Mul(nn.Cell):\n",
        "    def __init__(self):\n",
        "        super(Mul, self).__init__()\n",
        "        self.mul = P.Mul()\n",
        "\n",
        "    def construct(self, x, y):\n",
        "        return self.mul(x, y)\n",
        "\n",
        "# cria dois tensores\n",
        "x = Tensor(np.array([1.0, 2.0, 3.0]).astype(np.float32))\n",
        "y = Tensor(np.array([4.0, 5.0, 6.0]).astype(np.float32))\n",
        "\n",
        "# opera os tensores e exibe o resultado\n",
        "mul = Mul()\n",
        "print( mul(x, y) )"
      ],
      "execution_count": null,
      "outputs": []
    },
    {
      "cell_type": "markdown",
      "metadata": {
        "id": "nMGj1R_X6haH"
      },
      "source": [
        "### **Organização do Dataset MNIST**\n",
        "Usaremos os dados baixados a partir do site http://yann.lecun.com/exdb/mnist/, organizados da seguinte maneira:\n",
        "<pre>\n",
        " MNIST_Data\n",
        "    ├─test\n",
        "    │      t10k-images.idx3-ubyte\n",
        "    │      t10k-labels.idx1-ubyte\n",
        "    │\n",
        "    └─train\n",
        "            train-images.idx3-ubyte\n",
        "            train-labels.idx1-ubyte\n",
        "</pre>\n",
        "\n",
        "Utilizaremos as facilidades de download e descompactação incluídas nos script que veremos a seguir."
      ]
    },
    {
      "cell_type": "markdown",
      "metadata": {
        "id": "xmOk4xEr7Sgr"
      },
      "source": [
        "## **[Passo 03] Executando o Experimento**"
      ]
    },
    {
      "cell_type": "markdown",
      "metadata": {
        "id": "2O8kAt5EpeOm"
      },
      "source": [
        "Este experimento foi projetado para **MindSpore 0.7.0**, configurado de acordo com as etapas anteriores. Certifique-se de que seu ambiente funciona antes de continuar."
      ]
    },
    {
      "cell_type": "markdown",
      "metadata": {
        "id": "MEGQ_sPwNnpS"
      },
      "source": [
        "### **4.1 Carregando as Dependências**"
      ]
    },
    {
      "cell_type": "code",
      "metadata": {
        "id": "IRcAsDpj4OYQ"
      },
      "source": [
        "# lidar com arquivos, path, etc\n",
        "import os\n",
        "# requisições HTTP\n",
        "import urllib.request\n",
        "from urllib.parse import urlparse\n",
        "# compressão/descompressão\n",
        "import gzip\n",
        "# lida com argumentos de linha de comando\n",
        "import argparse\n",
        "\n",
        "# ================================================\n",
        "# APIs MindSpore\n",
        "# ================================================\n",
        "\n",
        "import mindspore.dataset as ds\n",
        "import mindspore.nn as nn\n",
        "from mindspore import context\n",
        "\n",
        "from mindspore.nn.metrics import Accuracy\n",
        "from mindspore.nn.loss import SoftmaxCrossEntropyWithLogits\n",
        "\n",
        "from mindspore.common import dtype as mstype\n",
        "from mindspore.common.initializer import TruncatedNormal\n",
        "\n",
        "from mindspore.train import Model\n",
        "from mindspore.train.serialization import load_checkpoint, load_param_into_net\n",
        "from mindspore.train.callback import ModelCheckpoint, CheckpointConfig, LossMonitor\n",
        "\n",
        "import mindspore.dataset.transforms.vision.c_transforms as CV\n",
        "import mindspore.dataset.transforms.c_transforms as C\n",
        "from mindspore.dataset.transforms.vision import Inter\n",
        "\n",
        "\n",
        "\n"
      ],
      "execution_count": null,
      "outputs": []
    },
    {
      "cell_type": "markdown",
      "metadata": {
        "id": "xlLtdXae9D5V"
      },
      "source": [
        "### **4.2 Configurando o Dataset**"
      ]
    },
    {
      "cell_type": "markdown",
      "metadata": {
        "id": "sVgsb67R84jA"
      },
      "source": [
        "As funções utilitárias **unzipfile()** e **download_dataset()** fogem ao escopo desse exercício. Desse modo, não serão tratadas em profundidade."
      ]
    },
    {
      "cell_type": "code",
      "metadata": {
        "id": "k478jaPW-mOG"
      },
      "source": [
        "def unzipfile(gzip_path):\n",
        "    \"\"\" descompactação de arquivos no formato gzip\n",
        "    Args:\n",
        "        gzip_path: caminho para o arquivo a ser descompactado\n",
        "    \"\"\"\n",
        "    open_file = open(gzip_path.replace('.gz',''), 'wb')\n",
        "    gz_file = gzip.GzipFile(gzip_path)\n",
        "    open_file.write(gz_file.read())\n",
        "    gz_file.close()\n",
        "\n",
        "\n",
        "def download_dataset():\n",
        "    \"\"\"Download a partir de http://yann.lecun.com/exdb/mnist/.\"\"\"\n",
        "    train_path = \"./MNIST_Data/train/\"\n",
        "    test_path = \"./MNIST_Data/test/\"\n",
        "    train_path_check = os.path.exists(train_path)\n",
        "    test_path_check = os.path.exists(test_path)\n",
        "\n",
        "    if train_path_check == False and test_path_check ==False:\n",
        "        print(\"******Downloading the MNIST dataset******\")\n",
        "        os.makedirs(train_path)\n",
        "        os.makedirs(test_path)\n",
        "    train_url = {\"http://yann.lecun.com/exdb/mnist/train-images-idx3-ubyte.gz\",\n",
        "                 \"http://yann.lecun.com/exdb/mnist/train-labels-idx1-ubyte.gz\"\n",
        "                }\n",
        "    test_url = {\"http://yann.lecun.com/exdb/mnist/t10k-images-idx3-ubyte.gz\",\n",
        "                \"http://yann.lecun.com/exdb/mnist/t10k-labels-idx1-ubyte.gz\"\n",
        "               }\n",
        "\n",
        "    for url in train_url:\n",
        "        url_parse = urlparse(url)\n",
        "        # separa o nome do arquivo na URL\n",
        "        file_name = os.path.join(train_path,url_parse.path.split('/')[-1])\n",
        "        if not os.path.exists(file_name.replace('.gz','')):\n",
        "            file = urllib.request.urlretrieve(url, file_name)\n",
        "            unzipfile(file_name)\n",
        "            os.remove(file_name)\n",
        "    \n",
        "    for url in test_url:\n",
        "        url_parse = urlparse(url)\n",
        "        # separa o nome do arquivo na URL\n",
        "        file_name = os.path.join(test_path,url_parse.path.split('/')[-1])\n",
        "        if not os.path.exists(file_name.replace('.gz','')):\n",
        "            file = urllib.request.urlretrieve(url, file_name)\n",
        "            unzipfile(file_name)\n",
        "            os.remove(file_name)"
      ],
      "execution_count": null,
      "outputs": []
    },
    {
      "cell_type": "markdown",
      "metadata": {
        "id": "2M4iE3kA9bjl"
      },
      "source": [
        "Agora trataremos da criação do Dataset. Uma das diferenças entre TensorFlow e MindSpore está no tratamento granular de como os dados são processados, pois isso afeta as aplicações.\n",
        "\n",
        "Assim, as imagens passarão por uma pipeline de operações antes que sejam submetidas aos processos de treinamento e validação."
      ]
    },
    {
      "cell_type": "code",
      "metadata": {
        "id": "HtmwOd8N9eU9"
      },
      "source": [
        "def create_dataset(data_path, batch_size=32, repeat_size=1,\n",
        "                   num_parallel_workers=1):\n",
        "    \"\"\" Cria o dataset MNIST, seja para treino, seja para teste\n",
        "    Args:\n",
        "        data_path: Diretório onde está o dataset. Ex: MNIST_Data\n",
        "        batch_size: Tamanho de cada lote no dataset\n",
        "        repeat_size: Número de réplicas desejado, para cada amostra\n",
        "        num_parallel_workers: Número workers, para explorar processamento paralelo\n",
        "    \"\"\"\n",
        "    # cria uma instância padrão do Dataset\n",
        "    mnist_ds = ds.MnistDataset(data_path)\n",
        "\n",
        "    # dimensões das imagens\n",
        "    resize_height, resize_width = 32, 32\n",
        "    # fator de escala nos pixels\n",
        "    rescale = 1.0 / 255.0\n",
        "    # deslocamento: nulo\n",
        "    shift = 0.0\n",
        "    # escala e deslocamentos usados na normalização\n",
        "    rescale_nml = 1 / 0.3081\n",
        "    shift_nml = -1 * 0.1307 / 0.3081\n",
        "\n",
        "    # 1) define as operações na pipeline de mapeamento\n",
        "    # - as imagens originais são 28x28, ilustra redimensionamento para 32x32 usando o filtro bilinear para ampliar os pixels\n",
        "    # - após isso as imagens são normalizadas para uma média e escala\n",
        "    # - depois disso os dados passam por outro ajuste semelhante\n",
        "    # - o shape de entrada de cada imagem é alterado, indo de (altura,largura,canal) para (canal, altura,largura),\n",
        "    #   ou seja, resulta em imagens nas quais o buffer de cada canal está separado em uma região contígua da memória\n",
        "    # - finalmente, converte o identificador das classes em números inteiros\n",
        "    resize_op = CV.Resize((resize_height, resize_width), interpolation=Inter.LINEAR)\n",
        "    rescale_nml_op = CV.Rescale(rescale_nml, shift_nml)\n",
        "    rescale_op = CV.Rescale(rescale, shift)\n",
        "    hwc2chw_op = CV.HWC2CHW()\n",
        "    type_cast_op = C.TypeCast(mstype.int32)\n",
        "\n",
        "    # 2) aplica cada operação de mapeamento definida no passo anterior\n",
        "    mnist_ds = mnist_ds.map(input_columns=\"label\", operations=type_cast_op, num_parallel_workers=num_parallel_workers)\n",
        "    mnist_ds = mnist_ds.map(input_columns=\"image\", operations=resize_op, num_parallel_workers=num_parallel_workers)\n",
        "    mnist_ds = mnist_ds.map(input_columns=\"image\", operations=rescale_op, num_parallel_workers=num_parallel_workers)\n",
        "    mnist_ds = mnist_ds.map(input_columns=\"image\", operations=rescale_nml_op, num_parallel_workers=num_parallel_workers)\n",
        "    mnist_ds = mnist_ds.map(input_columns=\"image\", operations=hwc2chw_op, num_parallel_workers=num_parallel_workers)\n",
        "\n",
        "    # 3) operações sobre o próprio dataset (vide DatasetOps)\n",
        "    #   - embaralhamento, partição em lotes e repetição de amostras\n",
        "    buffer_size = 10000\n",
        "    mnist_ds = mnist_ds.shuffle(buffer_size=buffer_size)\n",
        "    mnist_ds = mnist_ds.batch(batch_size, drop_remainder=True)\n",
        "    mnist_ds = mnist_ds.repeat(repeat_size)\n",
        "\n",
        "    return mnist_ds"
      ],
      "execution_count": null,
      "outputs": []
    },
    {
      "cell_type": "markdown",
      "metadata": {
        "id": "9nzmGVYYBhn3"
      },
      "source": [
        "### **4.3 Definindo a Arquitetura LeNet5 com MindSpore**\n",
        "\n",
        "![LeNet_5.jpg](data:image/jpeg;base64,iVBORw0KGgoAAAANSUhEUgAAA4kAAADuCAYAAACUN0IqAAAAAXNSR0IArs4c6QAAAARnQU1BAACxjwv8YQUAAAAJcEhZcwAADsMAAA7DAcdvqGQAAMUPSURBVHhe7J0FeBRXF4ZT3N3d3aFIseJQ3FoKpVgpxWkp/FCgUGihULS4u7tLcffgThICUeJuu98/Z3Y22UwuEdjd7G7O+zzfk+yO3dG939xzz7UDwzAMwzAMwzAMwyiwSWQYhmEYhmEYhmGiYZPIMAzDMAzDMAzDRMMmkWEYhmEYhmEYhomGTSLDMAzDMAzDMAwTDZtEhmEYhmEYhmEYJho2iQzDMAzDMAzDMEw0bBIZhklRREVGICjAH76+vvALDoNGq1Wm6NBqIhHo5ytN90NoeKTybcJopfWEBunWGxyW+OUsCdqHIL8ARGliHxNooxCsHLOgsAjly7jQsdXPRwoJC4dGvS5DtBqEBPqrzoEWURFh8JPXEYjwyCjl+8QTHhyAsEiN8kmHRipbgL+ftE5/hEVEyvvKMAzDMIwYNokMw6QQtHj/cDs+L5YfGdOngZ2dHVJnyYXCHSfBPUhn6qJCPDC8cgFkTPWZND01cuStgOU338vTEsL97lbkzJxWXu+EHQ+Ub60JLd5eXYk8aavgkWe48h35wzD80aIqsqTTHbPMOcti4Q0PaW4DtJF4uGcWyhTIj6zpdcfAzu4zZMudF0Uq9sEdFz9lxti8u7UDOfMWxLuQGOPp73gJhfLlRqrPpHV8lh55S7bCOZcQZWoiCHqOaoWzYt0tV+ULwh/t6pdH+rSppHKlQe6CFbDxfuLOK8MwDMOkRNgkMgyTIvB9dgiF0lTD1nP3ERBKplCLYG9n/NmjCqoOW4kI6fPV9aORv8M/8KLp2ghc3/Q7CtbsjdhtUiK0uLNxOOzqzEdAlBW2UGlDcHDBLyiYhsxdJQOTqMGbk9OQs91f8AiWvpPM4PMza5EhV1fps9LCF+mLFYObI0vTH3Hi5hP4BIbqvtdGwdP1LY5s/hvVylfHljvuuu9lInFy0a8omTsDUmXLb2ASw7BkUBP0/Os4AiKiEBXqi2VD2qDewF3K9PjQ4NXFDahZNItsUmNMYhTuLuqIer3nwM0/FJqIEFzY+CsyVfvLOs8VwzAMw5gBNokMw9g+UYFY3LEyhmx/HMfwaQOf4O/JK+EaHNcKut/agpzl2kjWRcfsrg3Rqt9q5VMMx/8eqLSekcrgkvOHW760EQHonDUjxsxajF5Nq0jzZ5LWORmurvcxrOPn0uc0qN7uRzwP0JmwAKcbGN6rDdLJ606F+m2+wYlHHtKUSByc1gYtl57AmJ4NkVqaXrReV+y8/lZeThv8Br8P7ITc0vep0+dEz0Ez4BoQ00JoyKnpY9Dhp2mwf3wCuTMYtCRqAvBHpRzY8sBT9zkOWhz7dxTqfT0LgZLfevrfSrSvUwp2mfNh4KSl2NO3JHrMOwXna5tQp24v+Cqe7O6KAWjTezIuXjkWyyRqg1+jY6FyOOER07Locnkl8lfuCk1UCH5pVQ595h2V9lwqWpgPprQojxEbr0k2EHC+tBpVWvXDqadvUb5o9miTqI0MwM+lMmL6vsfyZyLY4x6yZCiNx56KoWUYhmEYJhZsEhmGsXk0/q9RM1MePPiASVKjDfHA5SPb8e1XzTB8/Q3l2/jQ4voqySi2XIfgBBqn9CYxR/lvYe/ijxCvx2ifIyOqNPwKl157I8LfCWNal0GLVY+ktWowqUM9dP/fTtmoaiL9MLtdBZT67m/JGJFJbCkZx1xYcOie9CkMZ5aORZ6ireQynP+zO2p0mQTvcC0iQz3wY/k8mLDdXleIDxDgci6WSdQEvUOdNBlx9OYFTPqukbSttGg9fA4cfcOkskn7EvYa3Wu3w5NQDcI8LqFgoVJYcfa59L0fVk/sIs1vh8XnHKQ5IzFvSHesfRQgL6cn0OlyLJMY5XED5fLWhIOBXw9z+A85ClWFt7SgxvsGKueshq133HBv3wwUqPYzfELVfRZDUcHQJIZ4op5Ujs13Y8JPowLeoUTm9Djy3Ev5hmEYhmEYQ9gkMgxj80R4PkROyYw4G/R9+zBaBN1YiHzZsyNblkxoNGErohJMcpJ0kzhq+RXlm3BsG1IFTeaeVwyUFqfm90bWzlsQEb0urZwUJjw8DI+2jUDmduMlK6QziZ+12YAw/XwRbhiQMwdWPwvBqQntkLlmO5y6/hz+wWGIjC+BjILaJEb6vEIOyWClzdgS15x9pW/CcXbZz8hUdBR8wjVwOTsPrQeug1YbihVNc2Dczpi+mAEu1yWTmBv2bsHy5+N/D0KTRbeUfdShNolkCLMITGLWnOXxSvnu1oqfUKRcVdQqXBPucRt/JWKbRDKEuT5gEg2/YxiGYRgmBjaJDMPYPJoAR9TNkBu3/fWBo4kjKtQdvzaviL+vk0GKj6SbxOl7HirfkEmsgSHbHimfY5tE/7c38W2TCihcIB/y5s2D1Kk+i2USc40/K4dbymj9MK1efow/6wVNhB82TP5abs1LkyUXChapitMJtJyJTWI6rLnrHm3uIr1fIHuaLDj2ygd7hrVDvyXXEebzAhmk7Vx5G6DMBXi/PCptuzNcgqh0Wmyc0A9zrnrHaxI1nrdRSWAScxauBj9lQW2UF35omB+VW8/XfREHVUti6Hs0/oBJPP7SW/mGYRiGYRhD2CQyDGP7aMOwe0QD9FlnH2Oo9IQ5ok7pBjjrFIArO2dj0dUYQ0RhkpvHN0PjZfcTSF5jIpOocUOPSjUw+u81uPHUAW+c3+LV3p9jmcR0X+9CeLSD88SI4vmx2SGmT2Sw33u8fHgF/07siWyFe8FJNm1i1CZRG/4efTOlw5JrBgbL3wml02XGuTd+2PljGwxZb48wr2eSIcyFF176Pn4a3N48Bpm7bEGIRgut/zO0r9cCLwJjb1ttEhHpioGly+GIa0xY8NuLy1CgSo/oc3Ji1g9o1KwPWpQrjpX2sU2njtgmEZpgLKiZGVN36483EOR+F1kylMPT90l7acAwDMMwKQU2iQzDpAiC3l1C6bTlMXv7f/AOIhOigZfjI/yvW21U77sYQVot7Pf+gQxV+sNZ6bvo5XAZLcuXwwXPhMJUTWQSQ++hVt76OONAQ0hI5XW4iz4NisKu0kB4avR9Eqvj7HNPaalI2O9bgLxFm0k2CVjauyHaj1oJ/zDJ3mqj4HBuPvKV+g7OggQ9etQmUbKEuLtmAEq3+h2u8jGLwrP/ViNjuUHwCo3CreVD0H3KEWmf/DG8aHpM3HoDkdpIPD2zCZUypEbLdc8Q4PEM4zu3xOglF3WrNCCOSZSOxbrR7dB2zFb4hEchMtAD84a1Rt0BG6RpWgQ7Hke5au1x1SUYz08uRro8rfDcR518RmUSpTI/39gfNdr9BgevIGjCAnF02QhkqfUbfMPjt/4MwzAMk1Jhk8gwTApBC5/nR/DV51WjxzNMV6A0Pm89Be7BunESycAtHtIMhTLqxgTMW7IyxmyMSVzzoeymtO7YJjECfw+sg8J9dkE9ykLSwk0j8efQLsidVSpv6vSoWOsLHNo1D7nK9sKbsAhduGn/cahfNr9U3lQoXO4LrLr0Tl6Lxu8BetSrhGypdFlRS1Sohh23dZlPP0RckyitJzIIUzp8iRyZ0kvrSY9S1Vvg1FtdP8Mwh+Oo2eQ7eEtmK+T5LtQomgN2qbKhRscB2PR3b/kY5itaDiPnHZP2Ki5xTaJkzJ//hxoVSiE1jZNolxkV6vXFfb9IOXy2b5lCmHv4iW7GqCCs6VMDTUZtQUisg6w2iRIad3zTojaypKPxL9OhZNWmOPkmUJnIMAzDMIwaNokMwzBWiaBPotnRYPPYLijdd7ny+UNEYvv4Lmgw9SwSkT+HYRiGYZhkhk0iwzCMVWIJJlEqRagXlvzUAoVKV8A/Ww7ihatBkp9gJ5zbMRdVSxZC24kbEBzJDpFhGIZhrAE2iYzNEhHsg+unt+CHfv3Qb8gsXH+pC8OLgyYEx2cOw6s4fZs+hBYP/9uAftJ6R00+mojhEcRoNZE4t3khXvvEhPYxTOKxDJNIaKPC8eLWCUwYOwbNyhaWw0xlZf4CQ8b+gZM3XiV7GRmGYRiGSTxsEhmb5N3dI2haqySateyE78kkftsN5YuWw49z9sbuG6UJxelVv8oV2usuMen740PrcwWVM+RDh2+/x5gVNz46fC4ixAn5s9XALdfEmlOGYRiGYRiGMT1sEhmbQxv+Bh2rlsHMQ8+Vb3QEO19B6ZzFseddiGwUQ32cMWdgOxQqUTKOSQzzc4O9vUOcAci1Yd64uX0K0hVvi9N3H8A9SJfwJDTIFy8e34P9gyfwCZDWb7BYRKg/HB/YS+uzx8s3bgiL1EAbGQb768eQO3N5bP3vFt4HRcDb5SUeSGXQLxoZ6gf7h4/lFphwv3d4+fY9/NydYH//EYKVRB0hAV54Iq333v3H8A0KFyYHkQ4IHB4/hldQGDzfvpTK8QDegWGUkQReLo7S53vw8A2OXlariYKfrwceSOu1t38Id98gZQrg/OQRXKV5fV1puftw8QqQTLKypFaDQG8P3KPlnjoiKCyhjKAMYzoiQoPxzvGFfN/ZP3CCX/CHW+yDvV3wyMk31n37QaSZgt6/la/zZw5uypfWR6i3M956qpP3aKTnkIN8zB68dkPkBw5IZFgwPOVnh+659tzZA8FhumdhLDSheHlfN49er118lInxoAnGs3uxl3P0SNxLPIZhGMY4sElkbI4HG4ahVOdxUnVHjRZ+Li7K/8CTnb9h8vbrCHa9G8ckvjg4TfquB7xo+AADNK+2IKc+lM4uF2ZdlSo8gU9QPn8m5Ts7pMqcB7c8dK2D4e/t0TSLfn6dWv+4RhmkXP9dZiy57oLN45vGCh30ebQfqfOVBpXK6cAvqNO8I8rR/FmK4oVUrJA3J1Ahfcx67ezK4o5rjKGLRvMOnUsVRd9BvWLmrTQQRzdNNli2NC7K2R61uLNtgsH3pOLY+ER3bH6sUBS9hg2KNX3+6ZfytDcXV8f6PlOd3ngXwkMMMMlA8Cs0LJU91vVoZ1cMBx95KTMYoPHBhBaFhZloRegiANLJ6xRnurUGAlCvaC4MW3hJ+azj2PTuBscrFb74+WDMGJwyWng+3IsyuXXZgWOrMBaffKrMp0PjdlH3zDJQu/FblakfRvP2GIqqlus1/4wylWEYhjEHbBIZm2P7gC/RZ/JR5VPCiExifATfXYX05XrBTfI/2shgjKiYD+O3XkJIhEbum/Xw5ALkrTEJ7yWDuWdiL3wxdJOSol+Lt2cXIF32ZngYqlGFm9Kg7fGbRLv0n+Oss7/c0qdFODrVKItZe28jXKOFJioM9zb/ghp9l8Qdp082iRnResJuuRxRIe5oVLEQ2o9Zi4CwKGjCfTGsXG5M2mIPbcALtChYGqecvOUWQk14IKb2rY8yrVfKqyKTWKhhf7x6HyT3qXS6NA95C3bD64AgTOtZDe0WX5OXiwrzwaBW1fHjrmfycgxjTjb2rINvp+2Gjzy2o0RUMO7tnYVSn/8I71j3hwZbxn2D1NL9n1iTGOp2AjlSf4mXftbZUu7z/Azqli8gP/MMTaLG6xKK5+uAO+66l0VBbo9RMGNOXHzjr5tBekZdWTEEmXJ8ic1n7sDTT98KqUWInzfsLx9Cu/qV0Pufs8r3wPtry1G5/fgk90d1O/0n6vafz/1YGYZhkhE2iYzNsaFXQ3w9fp/yKWE+xSSG+b1AlgyZ0fuH4Rg9erSskcMGIW2a4rjpohtLjoj0fYP7Dx5g67QhyJaxEe4GJ90kpq07CH76SmzIDZTMWBTf/TQqerujR/VDzqwd8dhfVbWSTWIhLLr+Xv8FejUsiwn7lbf+2gjMqpYfA/8+qfus8PLpY9y/fQbff14OpRstkr8jkzho5in5fx0BqF06H9bcdMGheQOQPkc19P1pJHaduor3yoD0DGNetBhesygmbLmjfFbQBmDvmu14FxRzf7w+MR8N2ozCrrlDY5nEuxvGIW/NznGiEVzvbotu2SL9evCFMkXMgR/r4ctBUzClZ1Np/s9QuHYbnH/6EjNHdJEjCbKU/RKrb7pKJZaeAAFO+HtQF5ROp1t3saoN8ffGy/J6XM7OQYaGUzBpbC/kSS0tl7Myhiz+DxFyOHwUjq/9A7XL5ZO3UbF+K6z7T/xyJsL1FopL+7Xz0isMKl/UwCRG4c78r9BrwWm5LCLeXtmMvLW/xfP3IfB9fha9W9eVtpcR9Tr0w7WdY1Ck60x4v3+CrnVr4up7nYE+Mq4L2g1YjkMb58rPqPP33sjPN22EH+Z9XReNJ5+UX3Ih0htTOjbC8E335JdMW/vUR9+JW7Fn7WyMGT8RN5+6CSJDGIZhGFPCJpGxOW4t/QFNBiwWVna8XtnjylPPWMlmPsUkBrlfQ6a0udDt275ytlND3XoXgHd3j6JVraLIVOZzNGvWDN06NUeWjzSJmZoPQ4huEjRvdyFvulLo0Tf2Nvv1Gx9rIHQZ2SSWxIYH+hYBnUmcfspB99HAJGojg3Bw4Sj5eHzesCmatWqPJlVLxjKJsUPUQlG3fF4svOQMbXggzu9ZhO5tW6Jmydywy1sJC/c9UOZjGPPhcn4JCuQog29GTsS6DVvx0PENgmL1mdMiwv8F6lRrhpNPvXBp6YhEtySGvDuEbKnawSlQ9TJGAJnENPnq48Ddt9BEBGH1wEooWqoBVl6QzGVUMPbN/A6pqs1CoPRAOjqtDyp/NRmecoi7BpdWD0XqAm3hEKHVmUS7tBg5/yACIzVwu38UpTNlxMlXvoh0P4+qOavg0DMvabc0eHJkFvJX7Q/3BIYbiXUva4KxrHF+jF+xF7NH9ER6MrA1umHXNSfdMdEGY2bfltj+IgjakDdoWqY8xi07i3Dp2fHs1EpkTZsKfWafkFf1aPd01P3zqrScFpM71kX2/BXQS342fY+GlUth6o6b8rM52OMeyqTLjL33XHFxxS+o3HUSwuQ1aDGodhnkLlYD39JyffugbtkiWHTq6QcNLMMwDGN82CQyNofG8yqqlvkS111jWvIITbgP/upZA/UX3o71VvpTTGJkkAsKZsqN81JlTY8mIhj37z1DSGQIhrWvhUm7Y/rpBD/bj8LpG+CGf1Qck7h9UktkG3EC+rqd+62tHzSJ0LxGpbxf4Oq7mH2kt/MPHzghzNABE0kwiV73dyNXyeZ4rz9A2kisH9MZper/I3+kimXnX7dHV9a0EU6oXLi+dKwD8ebpo+hEPsSpBYOErTEMYw4CXJ5h9bThqFalIkqUKIQ0dhWx6uR92fTQs2Bi4+KYssNenteUJrHGj/8q94AWAWcnIv0Xk6IjAlyuS8+SzzrBNTjmLokKD4Kvnx8czq9E4YyN8CBEozOJqTrDOboVNALHx9VB7RmnECU97+pky4t+f6zAPem54+UbFOsl2IeIZRKjAvB7icxIlbU0Nl6iPsbU9/Ao8qUvhdsuQYhwvYov6/SW1qvBo9Xfod6wVVIJdGgl81stf3asuuosf6bW1iwVJOMbFY5f+rXD/PNv5O8JzbujKFq6N5zkjo5aeJz5AxmqNEJlyZA+9tc/O8LwXecvseVuTFIgjdNO5K40Aq6SYWYYhmHMQwo1iVE4+ndnZO+8BWHSb47m/S3Uy14Msy66x35TqQ3EojZl8L9juh+/s7OHInv27LHUsOsY3HbQGwQNBrapjcnHXimfYzg4fRAa9dwgzfJCqlTnjrMevb5beFVZgvl4tDg6byDSF6mOHf89lCt+oW5P8PM3jVGgbGf4qGqCn9QnUTJYewfXQIa6/fHALRDaUF8sHt0SdnWnwTsiDCM6VkKXufSGXYtgpxtoWIXGkKuEY2/DFZOYHyde+snT72z6FXZpqsPeIwihHo8xskc95PyQSZTmn9GyEiq2G443fpFSxdIXf3Upg6qDliNUnZEwCSbR5+E+pCtQAXfcqTVSgwsbJyJdmlQoWuEXeVaqWKZKWxnbrjkiKswXv7ctLG8zTFrHv0O/ROFv5iA0iiq8wZjVrQHqdP039j3FMGaG+vCGh4fC8eZmVMhcAnuf+ePm+tHI8/UahChuypQmsV10ohadSczVaz70bf2GJlET8Bb/69MQ2bNlQaZMmZA21WewMzSJ2YfCM9okaXB7SSdkH7JNMmtavHlwFM3kBFmpkDFTFvQYv01plfswIpPYfc5JSt4qo9WEYFKxzJi4zR6O/y1AzZYzpUdFIPoXz4s/dsVECESFe6NInoK44Kh7fr7+byGKTTovPpZRr/FFgbLY9VTpz6iNxBel8qLewIWKkf4AUc9QLkdF/OcY+8UfwzAMYzpSrEmkQajtWq7TmUTP66gkmYRMRb6AU7BBSJI2AHMa5sWoQ07yx1PT+6FK84k4d+5ctPasno7yWSpg90vKKqmrfIv6qez5rReqf7VKWmcwrl48r1v+vz1okykzxm8+Gb2+h29iWqSYj0cbFQr783sxcWAzfCadW7uM1TFx4To4esXYLD0ik/ih7KaEoUmUiQrC3pV/oUr+dJLJy4sxf6+Es7+uGuj5+CK+b1tdWldqdBwyBbdfPkOfulUw44KbVAkLx+bfeiKtVLGbfNwBkaE+2Dx/PHJkSIV6X43AufOHkOuDJlHabKg3diwcJ2cB/CxDVkycvR6uAYKqYVLCTaNCcGH9n8hKx8yuIv5YfQz2RxcjR4lWciWOKpZ9Jy7Dz+3rwS5DDoyfvzl6m6G+jlg8ZYxkKqXKrV0+jJq9HW6BPAxGcnP5yhWLV2SkYPiEj0XrhlK5i+D0a/VLn3D0a1UGP+64hmn1ssn3fBzl+Bk+CYRpmsYkhuHXnl/g64lrcP35W3i+f48Qx8MoZWgSU3fF2+CYlsQTE+qh67Lr0eZKGxUBT093XL10CJ+XKogxW+4rU8TEMonSM+DUL3XQaPKemJc6mlDMqpwDfx95BodT81G73TxptgD0KZwbSy/pfhOJYKmc2XP2gQtlMtb6Y1bH+tjqGARt6FP0bzkET3wNzm2IPWrkboZbPtJ30jYvzeyC5iP/RPMa5THpgNKPMvg+erYYDccAg+MbfB0lcnbC4wAjXicMwzBMvLBJ1JvE1PnRtnUtVOi6FIH6SoLAJDbstUn+P4YobJrYFnl/OIhIbSJMoiERruiXLTvWvdANl8Awlk6siiVjFYhMmaXJqCZRsjmbhrdG5SbDcPnpW+W7UNzYOwfFyn6Jax6qPrsSyd+SGIjejStijBz+qkXY+1cY072+ZFwr4bRLuNInMR1mbLgs/WZp4Xr/MCplyY3L7wIR+HQ3ShX5HGeeusvLhvs8R6sqZTHz+Gt5Gx8i9r0sLff2BAqVaoRTTz3lz76vL6Bchsq45x4sbeMgKjQYAq02CtdmdUT1b2fBKywKrg9O4MtyOWDXcA58/N5iwS9fo9XQFdLSRBhGNKuGQf+cVPY3EicXDECHXzdJ/wHvHx5E+kyN8NwnFA5nlqFsidZ4Lh/TUPSsXBL/W3NJDmnVRAbjwPQu+Hr2sej+2gzDMIzpYZOoN4npquLc69uomDUtFp5+rvuRS5RJjMSm/32FUkOPsklkbB42idaHyJRZmoxrEiU0fpg0uBsqFsuvtBKmRdXPm2Lj5bhdAQi1SfxQdlNCbRLvbh6PjFm/F0YdJCXc9MLySShfLLdU1lQoVa0ulh7YizZFKmPHswAl3LQLunWsj4zS/mQpWgUDll1EpBwuG4Vdc0ehYom88r6myV8a30/eEHcoHBWie/nksrGoUpjK8BnyV6iL2Uee64yZ9Fs16HPJiLqFQBvqiH4tqiKVZFor1O+Go/+tRa60qZG1YGn0GD4HAQaHIejtVfRuUA1p5HOQBZ83HYmXPmGIDH6HIY3KYs41T8VQhmPVL21RdcBKOWNrwOvT6Fa3kjw0Seq0OdGg+Xi4clQCwzCMWWGTKP1C6U3izSANgh9vRO4cbXHfK0xoEmt3nAdHR8do/bdpOrJnqYLTHvI7TzaJjE0zsUUDTFl7U/nEWAMiU2ZpMrpJtDHi9kk0P44XViF/vo547uYvD1MhIioiFDe2/YGCtafDn5PMMAzDWDVsElUmkd72bvyxMSr2nIpQgUmM1X9FUrNvp+LaCx/lbSibRIZhLAuRKbM0sUmMH0swiRRq+vTIn8ieMRPaD52JC3cNf+eCcO7YOjTNnxllG01AcKRG+U1kGIZhrBU2iXFMojQ18BVaVyqFQctOJSLc1BCdSRy87q7yOQYyiXUG71U+KbBJNBFaXFr3B6qVLCgb+RwlKmP61htxKi0eT86gf8svUbVs4WjTn79YRTRtNxhnnlO/nBhc7h1G08+rItVnNF921Gk1DI999EFjkfhtYBcUyJUJdp9lRLXG7XDDLeEsfBF+z9G9VUPkyJRGWmdGVP6iE06/06emoRCykahQNKdcrtJV6mLJqSfKNIZJPCJTZmlikxg/lmASZbQaeL97hrVz/sQPXRtGPzft7ArgxzG/Y+8Ze4QkpmMnwzAMY/GwSRSYROLliYUonrcoGhfNmgSTCKzt/yWa9l8a25BogzGxaz38fNhR+UKBTaJJCHE8gSpVW+GaAw0urYXH45MoX6AZruoTVkgVndtb/kDpanXx+79b8MoxZjwuz7evsGXRBHxepiT+vfxO1ycp0h0/1KmEkRt1fYC0Ie8x64cWqNFlhnSetfC6MhtlW47XZTTVhEkGdQyyfLkIAfFVljTBWP5VWXSYth1ewRHyQPT7F4+AXcZWcA2KRMCz/ahUuS3ueejMpsP5JShW6RseJ4xJMiJTZmlik8gwDMMwlgWbxA+YROpIv3VyZ9jZpUuSSQx3u4ovCxdF99F/Yf/+/ZJ243/fNUHBxoPgok5swCbRJBz+uR16TTmkfFKjRaDDMZSo2BnX3/jB3/UBpvzYXX4b/u1vq3B66TBU6jgB/m+uoljaknj8PgRav+cYMWACPA1On+f11chSoyNCJBt5c05r1B6/LfrFgPeTbUif7lu8lczfirGdUKvfIjmbH2379Nwf8Hm/2QgL88Gkbl/jgXfMoBa6oTjS4o5bEF4e/B1FW/2kM6lE0E3Uzvw5rntxZZpJGiJTZmlikxg/Go1GemYkNPIhwzAMwxiPFGsS4wymn+8L3AmObeIi/V6hefa8sQbTbzNwh/x/fET4vsOGeb9ED5A/acXJWBnfoolwx9CixbDlFZtE46HFpBY1MGLtRRxdOkEyXZ+hVv8ZeOMlmT2aqgnCgsYFsOupNzQRbvju84JoPUMXBnx80SCkksxi9/FHpE8avNzwNSbvexJt/mLQ4vGe31G9wyTdx6B7qFKmPU4+eQtfH3fsGN8dreZclI2hNuA52uUuiDnX3iPS5wYqF2iM626i862F17Pj+CxdPbgGSkuGOuKb2vWx8uor+Pr64urKX1D7m2ngK4VJKiJTZmmyJZPo4uIi3MdP0b59+1C+fHm8ePFCNowMwzAMY2pSqElkbBddv9DM2Spj5rZzcHR0wMXds1C6xNd4EhCFEPf7yJn1a/iHa3Bt0Q+o23WWnHJdt6gnWpQviPkX30kftIh8shLFB62NTlevR+P7AE0rt8DZd/p+h0GY0aay3BpJypC9Eq45BynTtHh9cTXSZCuHzkXzYsm5lwLTKc0V7IKfmtbAqke+FCErEYqdv/WKXqedXW4sPvlYnpdhkoLIdKg1e/bsZNXChQsTlLVgCpN46fJlbN++HdWrV0eXLl0QGBiobI1hGIZhTAObRMbG0JnELr/uNDBjkehavxzGbH0Ax/PLkLXzFkRoIzCoeQWM3PFImUdC8w5Ni9fDBRcK69Ii+Oqf+PbfC7FMncb3ITrW/hLrJLOn+yIc6ztVQb/5RxAUHiUtFgXXh6eRqUAD3HPXhZJqowKxvGsx2GXvC5eQuK0A2iBn/Ny5NX5de0X5Bjg3cxAa9JoF72BdC0uA2xN89UUDbHngLX9mmMQiMh1q/fHHHxYva8EUJlGv0NBQ2SyWK1cO48aNQ0QEjx3IMAzDmAY2iYzNMa/D5+g14aDyidBi5JdV8NPGe3h1aj7yDzuCKG0YujashCXXPZR5gOBXe1Ci0vdwi9BCGxmMv5sXxvprb3UTtZF4enY72jRrid03deHHhDYiAJ2zZsTmu67KN5JvDPFCiczpsfSSri+r6539KJu1JpqWzomJ22/GmE6tFp6PzqJfj06YueW68qWO2V0bot8Sw+80+LV7HXSdfVH5zDCJQ2Q21BKZMkuTtWBKk6jHx8cH/fv3R9OmTXH06FFERekG9mcYhmEYY5FCTaIWQe7P8Nf4XshgZ4fyDXtg59lH0ZX3qFBv7Fs1HdUz2sEubWaMnrYU7wISShqgRVSIJ9bNHoFC0jpzFqqLxdsvIVzJcKmJCMLlPUvQKqsufPCrH/7Arbd+8jTGuLw+PB2l6/aBk7+uRTDE+xXqVW+Fs29C4P5gD7I0/RdhGi2W92uBTpP3IkIya8E+b9CvUj5UGjgP4aF+OLtyAoo1no3ASOn8SQbxwrqJyF+jO176qYJPNWH4t1FRjN94CcFhVFHTwMfxBjJnrohbrsGIDHLC919UxpyrHghxOIRieRrh3JsAaZ0auN3ahlzFPseRBzHZVfUc++0btBq0Er5BupaCUH9ndK1fC6vuvJc/M0xiEZkNtUSmzNJkLZjDJOpxcnJCixYt0K1bN7x8qUQ3MAzDMIwRSJEmURvugeE18mHw4rMIk0zcu9t7UDlTeRx3DZMshRabhjRGxXbD4eAbiahwX/zVpTSydpuNYH3fNQFayUgs7lIerYcswvswDQLd7qBZ+oz49+o7eZ3XN4xHrjJNcc+dTEYEtv3WBRkqtoRfPOtkPpZIrPzpK6RPl1o25OkyZMKv63WtcpG+r1EkS1G88QtD6JvTqJopvTTPZ8iQKQuWzh6E1KnskDpNepSqMVyyezpCHP9DGblfoEoFG8KBZtK444uKhZEm1WfKunLjt2OvpWtCg13je6BRnzW6FUkcmdwV1btNRbCvA+qK1inp4AsvaZ2+GNuxBtKnSSV/lzZDRnQauyW6TAyTWERmQy2RKbM0WQvmNIl6Ll++jMyZM2PGjBkIDg6Wnj38u8IwDMN8GinTJEaG4c2bt6BGIh3hmNmvFpotvi3ZuTDUr1AS2+/HtNhowx+iTLbKOOMUiH2z+6Pu0J0IV8ydx+0dqNF6AIIlQ/DO+Q0Cw/RZ+qJwY8FXyDt8p2QJIzClT32MOPBamUZlcEafskWx+A63JpoCrSYSPu/d4OjoCC+/QGj0lSZtFF7un4CCbafCIzQKoYE+0jzO8AsOkyaFw+XtG7i4eSM8SgPPqwtRd/Aa+AX5yuuJI2dX6IctjAwLgdu7N9L3b+AbFKKrpEnb8nR5B3+5hVGHJiIYb51cECzNL1ynpOAI3fxRkeHwdn8rf/feNxBR/EIhEWjx2v44hlQtjuLFi+O7SUvxwjX2PRbq/hxj+7aVppfBd//sRjD1JU0UwVg1pJO83h5r7ynfWT4is6GWyJRZmqyF5DCJREhICBb9+y8KFy6MXbt2Kd8yDMMwzMfBfRIlnO8dQb2a+oQlAkJuoWTObngWFIVgt7uonyMv1t90pUER8UODevjrWNwwH/83t9GpagGso/lEhL9C98JVcN7bdlK/WwvaqBCs+rkjylb7EjOWHMDjFwbhnhF+uH/pGAZ2aYVcX/TFQzfOImg9aLF/xiAUL9sG/6xYh/Xr12P+tNEoU6Yc5px4JU8PfXMClXJVwMg/5mP9ulX47fvWKF17AJwDEroPtXA/+TsylmuJZes24cob67kuRGZDLZEpszRZC8llEgl6OfX69Wv07t0bTZo0wYMHD5QpDMMwDJM0UrhJ1KJHuUKws8uCrmMXwCskbouCJjIIS76phfHbb0lzy9/g9em5yFS6M+aP7IY2v65G7PxyWqwfS4Pwp0WDHqPx0itmsPQYonBk5gA0HbpcWSdjfrR4cW0/+vfujqa1y0WHetqlKYgWnXrgt38OgoeutjIi3qBVieo44hD7nru/fRLKNhwlVaAjcWRYNfT863D0faeJCEC9/Nkw7yS96NHgyaXdWHroKZSuxAqSQbx3ED93qYb89aT7/t9tcnKjDxOFk3vX4/RTN7y8dRqLFizA5efu0loi8eb+BSxYsBjn7jlGRyNQn1eXZ/exfMkiadoCnLzzWh5jk/qtPj++CaduOcH1yWVp2iLsu/IE4ZH6oGMNfN48lpdZsGA7Xrj7K9/HRmQ21BKZMkuTtZCcJtGQEydOoFGjRhg1apRcJksnxOs15k4ehZblssnP4qJVmmDi3M3wM7jX9k8wHBaIVBKnHPRDEX0YSgTW/ddDyieGYRgmMXBLIqENwpqx3VCqy4KYMfMkNOGBOLpoJGoM2oBgg1ojtUTNblEKdlnayWPvCdFG4M7G8UhfeSjeBRvOo4H9gX9Qr8N4uIXHV9FkGCZpBGJA4xr4bctFePkESaZQ+ToetFGh6FwoF1bLWWyjcGrFaLSbdMogFJ2QzNq+31CrdB5kKlAaTVsNwdPQ+HqHhqNfqzKo0aknatZrhKaN6iJT+qr4d8Es1KnTAE0a10fOVJ9h6VkKP9fizr6/kLFwOTRu0hRNGzdAwZy50HvueSocdvWphGZfdUPNMtXQtGljVClRAF/9b6+ceMntxjbkyJAfjZrScvWQI3cd7HrkpSuCASKzoZbIlFmarIXEmsTDR44kWerQdJHCw2OSa0VGRmL58uUoWLAgtmzZgoCAAGWKZREZ4IA+TSqj9fcL8cQzVP7O49VVDKpVDGX6rkGk/Lschcl9GmPY3hfy9KTAJpFhGCbpsElU8H9xEqnzlca7EH27YCh2TuiOSqP3IEpV29SE+aJHwZzym8xJ+58q38YlKswLhXNnwrpb+pDTSLzYPxGF2k+P9XaUYRjj4PlgL8pFtzKUxcptp+ATz8uYULezyJm/n3D8ythocHOB9DwYOE/6LyF0JrHZgA3KZ+CXuuVRb+BCZdkoXPy9IbpOPygZwfcYUa0cdjnEtFufmt4PRav3izaJduW+hXOYbsmIwMcokSsfjr/wxcJhLVHhxwPy98TOH9ugzY9x+6KJDIpaIlOm1v79+4XLWpLs7e2VvU4+EmsSRcfYGHJzi5stmcZXpCEzihYtKmdEtTSuL/kJdTrMUj7FEOJ6G9kz5MZtylSteYPOpWrjtIsqwzShDcCSprnQcM656CgBQ9Qm8fzxFSiVjp4R2TF61THdlxpHtCrfErd9DELPpW22KloPF92keoF0P947th5Fs6eBXfGGOHKDQth1TGlZE3/su4iBTQsjQ5bu8FPuV4ZhGGsmRZrEsHfXkS17CTwJjnmQO5xdhkLlhiA0UitVHK+gZenamLHzqqpFQUIbih3DG6PN1KN4d20tSuVvift+kdBEBKJS/pxYfsFRmVGqKgbcR95MzfHIKxwR/q8wsHpl9Jt/CAGJTpTBMExSCQ8JgPPz+zi9cwUmfPcF0mXJhW/nKBVBA4Jd76JWkTK45OQrrFjGJukmceDmmP5gK76qjiH/nFM+6UxitRGrYrZLCZWuX8KZs4fwdb2isUxii7Ebo+fTRoXh+/JF8Numu3h9ZgVSp8mC0hWqYuTczXjh6qvMFRuRQVFLZDbUYpOYOCzRJBIajQYPHz5E/fr1UaVKFXh5xW11Th7CMahNDfx+POa3MxqtBmHKj7DG9RTKpc6M4iWKyC+BUmXPhw6jVyOYJkv3iufLB3jhERi/SdSGYG+/Kviy7zRcunUXty6dxHeNi6BQ370Il7a14sfW+G7JDWUpwP3sLDT8fh4itOE4MqUVsrcZiQvXbuPm+UPo3KAMRu1+Jj8PyCRmKd8YG09dw90Ld2NFJDEMw1grKbMlURuBS6tGI3+VZuj7fT/0690DFWt+jo3XXaCVfkS+bVQKecrURb9+0rRo/SRVJgPw6vRy5CnxNVzk8esisXFiN9T69m85e+bbs/+ifKVa+KavNH/f3mhQtRim7LknGc1wLBrREhlzlMD3sdY5COt53DuGMQre9/di8OxNUpUzNq63tqF4zqqxQkRd7x1GiyadcNjeTbp3lS/jJekm8cedT5TPOpM4bOEl5ZOBSZSeN7v//hF5PkuPDv1+xIiR4zCuf9tYJrHd+K3KcvRVGH6sUBTj192SPkTi3eMbWP73BPzQpa7cKtJj3Ko45RMZFLVEZkMtNomJw1JNop6IiAjs2bMHFStWxNSpUxEUFKRMSS580b12Dex8En8yKM9zs5CxTHPcfkPZirWIDHBHv8+r4q8jCY8PqTeJ2shgnFi/Hm/kMXQJLR7uGAe7XBMREKWF160NqNpiTPQ99E+HWpi+/wlC3l5F4ewl4RAQk4HA88EB5CzeR241JJPYZkjMUEfMp+Hv4Yj9q6fr6klTV+OBk4cyRUeY0zkMEzzrtYFOmDzof3gZGoGri34xqGup9OsieEcFYcsw9bTBWHn8GoKUF/mR3s8xTHomqzNLaCMCMUea/8RDD6lOuFG1DgP9MByOIZyckLFeUm64qSYCT24dx7AB/TB42kK8dFHS5Ic+wy8DBTe7bBI9sGv2BOx46BP9tjLS9yV+G/Qr7H11D4K3z65i2uB+GDhqHO4889DNF+6C2dJ3cdfJJpFhjEXY6wMoXKo5rrvFrvSGvD6J0tEmMQKHV09G4y++xZW3SclQahqTGOF2DaULVsdTf31FQoMTswagQJUekoHUmcRCHacgRHngRIV5oGbR4tj/+D3unD+Io9JfPc6nFiJNwYZwUhVQZFDUEpkNtdgkJg5LN4l6qCVx7NixqFmzJo4fPy63NCYPAfjmi7KYffEDmcDjYfePLRJlzgzDTbUh77Fr+xZM++1XjBjaH8UpNF0xiYjwxNBmjXHknWQitV6oUaYN7r4Ph/PlNUoIe2yly1kajpLhJJPYb/p/8vqZT0GLW3sXo0rZomjVvodcT+rTowMqFqyMEf/sRKjyHAy+uwq5mg+La9687qJa2rK4GhjbJHb+sgZSpy2NPvQCn74jkxjhg1E5U6FJl17R8/Xr1xcdGlVB7S4z4RUahXDnS8iVr7R0hcZGG+aFltL5n3/qVWyT2KctMn+WHx17fa/7zCaRsXK4TyLDMDaCBut/7oFCpetjxe6zsmG4dmInWtWuhJZ9/5V+2TV4tvtXZM/UEPsu35an6/X2PRlGLbxdXuK+g7cg6U1sk0jjcL6UlnPz0yXZiE3iTaLG9xEa5SyCqTvP4q60vl1Lf0eNAnmQs3wLaBSTmClTXgz5ezPsb1/DX73roMBXM+EbqcXlFWORp0B7/HeH9uEO/hrwJT7vOS2OiRUZFLVEZkMtNomJw1pMop43zs6oUKECOnbsiFevXiWLWVw3tD06/H5c+RSDNtIHk78ohtOOgXj/+hkc3vooU3QcH98BzQYvUz59GL1JjAp2x8BauVC2UlXM3XoYZy7ewsOD02JMosTZRcNQb+o5BN9fhooDl8vZy93v7kTW/M0RHCE+Np9qEm+tGy80oTF5EjR4fesEujQsJX2fDt9OWAJn4bNHheYVauYth4Mvkru1OHGEu51E5bwNceqFt/KNjnCf5/iuXjmM2qNLWpSwSYx9nh7tmY6MWb9HgGEuCOnaGpUrPbY9UYddh6FKsZxYee1dokxiLAIuomiaprjrxcaQsQ3YJDIMY1M4PTiFIXWz6ypa1Xrh3GNn+XtNiBdKZE4fqxKm14ill6U5IrF5fFNk7bwFcfNKqUyiUkmYdvCZbnIskhBuKn3yfXcTXbNTObJj3kF7hLleRbWc5fFKow833Yij8wdJ03Ni8uYLCFMqs7Sel+e3IZeyD7+sPA1RtVFkUNQSmQ212CQmDmsziXpoTMXcuXPjfxMmKN+Yj9AXh5A5fw3cfB8Tzkk8PDQTGXJXgn9YFO6u6IdSnccZvATRYPyXVTD9lIPy+cPoTaLPqzPSvVIDLvpxUbXBWDWwnvRdD3jpk0O53kKZ0u2xun2RaBOg9X+BhqmyYvNTJeJIwvX2dmTL3wbeIVFGMYlFK/yifIpLyPNdcpTEJUc/OeR825QOyNprfsLDNFmZSTzwYz3pWax/TsbG9dZW5CvdXf7ftCZRg0al8+Hv4y/YJDIpHjaJTLIjqkCxrFeUdp8xAoI+iR+D6BypJTIbarFJTBzWahIJXz8/zJ07F8WKFcOmTZtAg/ObBW0k7h5chBzp86Fm/cZo2rQp6taqjDwFyuLAQw+5HNowD4xv1wiV6zSQp39RpzLaDF2JIEpsI5m9faM7YsR2++iuIIZEtyQGvUW7rHaoWFu3jjq1mmDI2P6xTCI0gZjbqQSy2pXCI2U4DroXX51ZjvS5iqJBoyZo2qgBChcohZmnXsv5CExtEme2r40Rqw3GyYz0xdVLjxGi0SLE/QGatu6E53KeBBUqkxgV7oF984bK+97q+5G4+8JT/t790lKMXHQk1rGj776bvkH+LjLUDyfXTJCX+3n6JrgFKsn3NG/R9+tZeGB/Au2atsDUw6+Exz9xaNC6TAGsuErDEcUl9O015ChQAbQnpjKJ2ohgXNrxB7LkbIsnPuFsEpkUD5tEJtkRVaBY1is2iUaCTWKSxSbx00yiHgcHB7lPVbt27XD9+nXlW1OjRdB7R5xavRgLFizAtoPn8E4OA48hKsQfV07ulqYvwuErDxASrpgBbTju7V6OnbfeCk3KrcM7cfgijUsqzRrkgS2rlkvr2IT7Th6ICPaU/l8On1D9c0uLe1tGI3OrpbIJi0argafjY6xZtggLFm/G03cx5uLq3q04ef2N8inpxG8Sw9G0cjnsueeMK/s3YPToX7H34hOEK2UL93eRyrMC7qKs6QYmMdzPAc0q5kXfn/+Qj+/vo/sgW/byuOQZAa3fXdQo3xVPDcZ9ntmiAv63+Tai/B3x9RdV8NWg8ZgnLffbT91R4vP+cKWhhTQvUD5fSTT86nvMWTAfu+29P8kkUgtezJBhsaEW3mxZiuKFdMqNZhJzxI4osUuVFZ36/4DD9i7yfrBJZFI6bBKZZEdUgWJZr9gkGgmpUnpjxW+Yt/Oa8sXHITpHaonMhlpsEhOHMU3ivHnzsGrVqiTpxYsXcPfwSFAJQa13586dQ926dTF8+HA4O+vCtm2dyGA3jP2yKna+8Fe+MT3iPonFccCJAkq9Ub1oKbTr1B7tuveWk6u0rVsW/RadEoTFqzAwib5O1zD4p1UI1YerR7piUOGcGH+WzK4GU7s1wbSjiunRvkeZIm3lpD13tk5B8SYzok0pmdYlQ79C723PpUeUZBJzZsS8i+LWv6Qy/cvymLIrZuggQwJenUHuwp/LxpBMYrZ6P8Bftf+yScxcCfYGmayJpIWbxkAmMUeukvBQb0cxicsuqMYcZZPI2BhsEplkR1SBYlmvktckahHi7ymbBXv7lwgME5dFGxUBXy8PZT5JTx3gG6R+L22IFppQb7xxiZ04IxptFDwcnsWErCUSTUQQHF58oIIlVdL9XV7ijbv6PXbSEJ0jtUQGRa3EmsTjJ04km85fuCC3pCUkU2JMk7hp82bhssZQUli3bh1Kly6NjRs3Ijg4WPnW9jj22zewS5MBddtMQ3h031/TE39LIpnELBi2+KLyWULzGhVzN8QV1wR6JRqGm2o1CHz/FvfunMWyBfMx8ceOkhHNophE6bo9/y9qdZwo2UXpGXp3ISoM24wI6dPKsW1U5lWnQt22ICqKTGIFnHIwzjXheuZPVGz/C9xUobOayGCsGd0R9X4+oPvsfhZlszbCLd/Y8wU8PoC8FVtCXZqPNYla/+domTUf9riExmohjfB9jWx2GXHeKaaPqgybRMbGYJPIJDuiCgzLepWcJtHz1jbkz5xRqcikRpYGQ/EuOHYYlsb3Ffq0roZMGTPEVHpSpUWmLFnR9s+9ylyx0UaFYlqzcmj/gdDPYOeryJcmJ9a9SETGwWg02Dv5G5RvOEz5HBtNhB8+L5wDA/8+qXzzcYjOkVoig6JWYk2iaFlLkymxRZNIrYr+/v7o378/smTJgnv37ilTbIvIsGD4+vkjIoqskvmI3ySGoG65PFh4ybAll74riQ13ExhCy7Al0eE8smRMB7tsHbB88xYcPXcGo6sXiDaJ2qh3+Lral7gdFIKN7fJh2RXangZrxn2F+jPPwMfXF74G8vOXjJPckmg8k0hjWC/45gvkrNUGZ+7o9jfY2R7/69wYhap0wrvo8OJI/N2zESo1GYTHSrIjn5dX0LluYTT5ZY/82ZCPNYlkrG+vH4V0mWrj9DPdfCHejpjYoxLsvpgNf+oPawibRMbGYJPIJDuiCgzLepVsJlHjje/q1sT8Mw5yBU8bHoDJTcrj1zW3dNPpDfnL/aiZuyQmLjmENx7e0NvHqLAgOD29hZkD26LcFxMQZJDqPtj9IdrUKos0kpkU9g8Md8GYL0tKZjN74k2ixgfje7dC5lR2KCMyiVFBWPN9LaSStskm0fgyJbZoEvXQ8BhPnz5F+/bt0a17d7i6Jn1sw/iJwst9v2PXrXfKZ0K6b989xLDeXdG0aWvM3nNFsi4GRPjj+JpZclKV9pNXw1HVj9EaiN8kavFni8r49g/dOI8yGkdULNYdj/VZWj9EtEkMxLnFA1Do58OIlAw/EepxF19myYgu214rhliDA9MHoP38g8hpVwavfXVD1d/fPQMFav2A4Ej9UY/CgUU/Y+DWR8Y3iRIa6bl96dAm9G9TUfcCr2wbzFm1D25+sSM9wv1dsXXZH2icWfeiL1OdTli+8zQCBcOUfLRJlKBoj1ObF6Jr6dzydtIWKo/Z/26Dj96wGsImkbEx2CQyyY6oAsOyXiWXSQx7ug3lmo9GkOrlrp6IQGd8nrMSNl16jcigd/h7YEcUlH7081dtit1HtqNK/ia46+2H9T80wvDdD3UVp3BnDC3TALP2XsHOQZ8LTGIUVozritZjF2NqvWLRJjHM0x7Nq1TE3Avv5PWEe9xE3WpNsf+pj1TrCMHvJapj1MJdOL3iZ4FJ1ODOnhnI02wi1n1dgU2iCWRKAgMDZaOYkETlUsvSTKKe8PBwbN26Ve6vOGrUKAQFGWOIhSjc2z8HWdOkMkgIooWH/Q5kT1MOv/wxCwvm/43eTWqjwTezlBc54Vg4rCWKNPoa8xfMx5RR3yBv8ea46Zbg4BAWRfwmEQh5exG1qlbDt4NHYPSokehUryR+2XhFfskV5v0ao3/9Dc7RiXcMMGhJdDi/AqmzVMFPI0Zh9IjB6PpVDzSvUQAt1z1TTCLg++ggsmbKi0xfrUeY0gcxwt8Zw9vWQs3mPTBi9GgM6tUOZUq2xp33kok0gUlkGMZyYJPIJDuiCgzLepVcJvHVnrGo1msSjm74C/Uy0dvlyvhz2wWEyCFBWjzfNxGN/rmMKG0YlvzQCg16ToVbqAZ+TldRp3h25Gg2WB5nMDzwAfLWnghPw7fO2ih5DC+1SXS5uhJ12ozC20BvTDMwicSDvX8jR57WcA0OxZ89PsfQBXFT5N/dMC6OSfR98R8al/4Cj33D5OymbBKNL0tAVC61LNUk6vHz85OT2pQpUwb//fcfwsI+zpxFBbph6aQBKFLxcxRIkzrGJGpDsfbbChh5IGZohRDXO8iVLheOO/lB63cLtfM3xr3orJwajGpZBUPX3VU+WwcvT2/ED8PXKZ/EBL93wD//64/OPb/F0SvPopPWhHo+kb7ri1fBoiEw3PDz98Nw00V6Lmkj8PTCTnzTtTOGTV8Gp/fBeHpyJTr/fjomAU6UJ8ZXzo+5d2Mn7YkMC8C5LTPQuXNnjP1rLd4qrYzQuGBYn+Gwd7cuU84wTOJgk8gkO6IKDMt6lVwmkQbbtvssPTrN2K0LRwt2QvsqRTD94BNoNX74o3EZ3A8IR4TTUZQq2xFOBhnwNvRqiK6jd8j/R4V5oXDu+rhj2BoRxyRqoQl7izIlKuH4c2/po18ck0hjt23+oTZqd2iHil/PQ7CB59SjNomaCC9836IWJh2WKsnKEBhsEo0vS0BULrUs3STq8fT0RMOGDdGkSRO8fZv0TJdhjqfx/V97pHvKC52zZow7tIABmgBH1M2YBxdcA+FyeiayNB4gv9zRc256dzTvu0L5xCSFgOcnUbh4k9jhvAzDpFjYJDLJjqgCo9bs2bPx119/saxAf//9d4JauHChcvaNB5nEjE2GIMhgbLPbS/uiYu8/Ef7+EQrlrgT/sCic/aM7Gnw/N7plgpjWqhZGrLsj/x8Z8gb5i46CC40DpkdlErURgZjWuiBmHntOSUjFJlEi5P09ZE6XCtMPPFa+iY3aJG6f2BE9xkuVZXmdbBJNJUtAVC61rMUkElFRUbh1+zbSpk2LAQMGfFSrIg0tkJBJfH1mCfJWGo+ACA0ebhqBUp3HxTI1DzYMQ/HWw9joJAk/dGtQAlkyZkOfVbrnoEUR9hY/9e2rylqqwYvzG1Ese3Zkz14bm85Lz2JlCsMwxoFNIpPsiCowapH5EFWiWNYpMorGxvfqQmSo/j28DGoKjzb+hAaD/0WE50MUylsbgeFROD2lMzqPNAgb1XihWfnK2PGQhrfQ4Pne0Wj/15nYY5CpTGKY1zNdUgWBes0/I8+jDfPE1JY18PM/01Gk5Je45Rq3305skxiGljULCddZu/t0ZZ6kI7qf1BKdI7XYJBoXUbnUsiaTqIeyoNJg7VWqVJH7LSYlsiAhk+j/+jya1G+N2x4hsiEgQygyiUVb/cQmMUlE4fqFkzh35QnCLM1phbliVMcaSFelDQx7vt7bPhVFitXEog27sX/7clQsUBDjVt5QpjIMYwzYJDLJjqgCoxabRNuSKUwiIt6hS6XKmLxH6Y8U7oWf29TErH2PoQ11Qc98xeEQHAH/extRqnx72LuHICrYHdP7NkUquwa46+GPK7sXonT5dnAKUPrc6IkTbqoiTkuiBv+tGI0irSYjLEqDTaPao26/+QhRVcBEfRKjseGWxMNHjgiXtSQ9efpUOYKmQXRc1LJGk6jHwcEBgwcPRosWLXDt2jXl2/iJzyS+ubELrVv1wJF7MeNcel9bgkKthsHwbr22oC8afTtf+WSduN8/iq9b1JZfEGWo3AyztlyCYWCDnns7/0Thmp1t1BBr4HBqCRoWqoju3VqqTGIkhnaoiXH7nyufpevj8GSU6zgegp6ZDMN8JGwSmWRHVIFRi02ibckkJlHC5eZeNK5VTtcCl6sU2k9ch0A5cU0Ejk9tjxE7nyBKG4qF43oid2qpAla8OmbsOoS25XLBLmMu1GvbG499BS0fSTSJfs+P4fMSjXFHv66wt/i6WgWM2xx7fDk2iZYrazKJomWNodDQ2OHTH8PFixdRq1YtjB49OsH+iiKTqIkMws6FI1C/4WDcc489DILW8xIqFm2DV2F6m6TF4i518fXvn3bPJCtafwxoXBMTdtPLLi1C3W6icsGyOPws9sDtga/PoG7xrMhrsyYxCg+k5+NNR194Xl8d2yRq3qBV0Yo4+DImOkPjfka6FtrBUT12IcMwHw2bRCbZEVV61GKTaFsylUmMj3D/18iXLT+233yDKIN+i4ZotRoEetqjYJ7auOpsjLT+yY/oflJLdI7UYpNoXETHRS1bMIkE9Vfcvn07MmTIgE2bNiEiQtzeE8ckaqNwe/0wpM7+PV65e8cazD1UGQLj565VUP2HBfD29cG9E4tQJGM5HH1lxfdu0C3UyVgdF930x0iDr6oXw6S9Mf2atZow/FizHEZMn2LDJjGGOCYx+C5qpzc8RhLSdw0zVsJpF1UUCMMwHw2bRCbZEVV61GKTaFtKDpNIGWYCnS+iSsn8KN36O5y4cN2gcqXBk1unMalPPeTNVQMXHLx1yWNsANH9pJboHKnFJtG4iI6LWrZiEvXQkBk0rmL58uVx5epV5dsY1CYx0uspiqb7LFb/XJ0yYc5ZZ3meoHePMLlfa9331Xvj+H0n6753teH4s1tj/LD6ovxR8/4eKhRqhCvvlFYzbSTOTGqBbr/vh+vtrWwS9bBJZBijwyaRSXZElR612CTalpLFJCqE+rvj5Pbl+HVEv1gVz2bfjcSCzYfxPih5hvAwFaL7SS3ROVKLTaJxER0XtWzNJBIajQYPHjyQx9xr2bIlXFxclCmMHqerW1AsS+roZ9PAWYcRKhtfLVyurUGWyoPwLjACXndTqEnUeqFTlVocbsowJoZNIpPsiCo9arFJtC0lp0lMaYjuJ7VE50gtNonm542zs7BsaomOsTFkCpOoh7Kebtu2DWXLlpW35eXlpUxJ2YS/PY3qNVvhzDMP+bM20BWj29TE75tvIeDtDbQoXw23lL6ZKdYkChLXuP03M04SI4ZhPg02iUyyI6r0qMUm0bbEJtGyEJ0jtdgkmh9bNol6wsPDMXz4cNSuXRvHjh1L0pAZtojTgV9QrtcfsYwfjQFL3x37e2Cs6Ae9UmXLj3chtpvXM65JBB5smYA8Jeti3f7/cO7YVlQtVABjl19XpjIMYwzYJDLJjqjSoxabRNsSm0TLQnSO1GKTaH6MYRJF8xtDVDZj4unpiTp16sjjK1IWVApLTYkE316KPE2HwC9CMcvaKOwb+SX6/H5I99mAlNKS+P7WRuRr0E01mH4k7h5chOzyYPrFsfq/JzyYPsMYGTaJTLIjqoCoxSbRtsQm0bIQnSO12CSan5RkEglqRaT+iqVKlcKPP/6IoCDDtqMUgiYcW377GrnyF0Tx4sVRvFhhpK/6DZ56hykzxJBSTCLDMMkDm0Qm2RFVQNRKiknctXs3y8K1d98+vHjxIkG9ev1auUoYUyK6j9RKDpO4atWqZNPGjRtx4MCBBGVKUppJ1OPv748FCxeibt26WL16dcprVYwKxbOb57F+/XqsP3odvqHiUNIwr9fYfvAMt6AxDGMSTGISfXx95YxlLJZaov4mogqIWkkxiaLlWdapa9e5j4k5EN1HaiWHSRQta2kyJSnVJOp59eoVqlevjpo1a+Kff/7Bjh07sHPXLqPpzZs3ypYYhmEYNSYxidQCIPpRYbFEiRBE86nFJjFlik2ieRDdR2qxSRTLlKR0k0i4ubnJiW0KFiyIhg0bCvfxY/Ttt9/iu+++w/Hjx2UzSn0iU2R4K8MwzAdgk8gyq9gkspIiNonmQXQfqcUmUSxTwiZRh7e3N2bMmIHJkycL9/FjRH0ev/rqK1StWjVOttBx48bJYfHUPzIwMFApBcMwTMqCTSLLrGKTyEqK2CSaB9F9pBabRLFMCZvEGJyl7SXldyApmj59Op4+fQofHx85s+rt27dx6NAh/Pvvvxg2bBjKly+PIkWKoEyZMqhcuTJ69eol91s9f+ECHB0dlRIySeXtu3c4ceKEycQtwwzzabBJZJlVbBJZSRGbRPMguo/UYpMolikJlCq57h4eCUpULr1Ex9UYMrdJJMiQmcoo/vnnn3j8+LGypbiQ4XB1dcW9e/dw9OhRrFixAlOnTpVbJJs1ayabx+YtWqBr1674/vvv5YQ7ly5dgoODA4KDYw/ekJKhY0HH8fadO9i9e7d8vKg1t0KFCnILrujcfKyWL1+OgIAAZcsMwyQVNokss4pNIispYpNoHkRZO9U6c/as8BypJbon1WKTaFxE5dJLdFyNoeQwicTr169lQyfa108Vrff58+fKlpJGeHi43Ap569Yt2fwMHToU3bt3R8tWrWQD2ahRI/Tu3Rvjx4/H/Pnz5cylNC8tYwtGhsJy3d3d5f6dtF+UZGjhwoWYNm0aRowciXbt2kUnIWrevLlsDvv27SvPQy25ZLanTJkiPC+fIjLr3KLIMB8Hm0SWWcUmkZUUsUm0HGjcQNE5Ukt0T6rFJtG4iMqll+i4qnXh4kUcP3EiSbK3t5eTyiQkU0CZsmfOnCnc308VGUUnJydotcYfWMLLy0tuQdu1a5e8LWpBK1euHIoVK4bChQujX79+mD1nDnbu3ImrV6/KIbbUH5NMjj4zOP3/8OFDk+jZs2eIioqSt6MnLCxMHpLk/fv3cnnovB88eBBr166VjxWVOU+ePChatChKliwptwiSGaRW1m3bt+Pc+fPy8VSv1xAa4oQiFcgsqs+HMbRs2TI2igzzEbBJZJlVbBJZSRGbRMuBTaJYloCoXHqJjqtaZPpEyxpDpoL6D5qqRZHMChnR5ODly5fy/UGhl+qEOtQiOWnSJLk1csyYMcKyf4omTJggt4CSAe/Zs2ec7ZOoXGvXrcPZs2flup4xIaMoKpcxRNdKSEiIsiWGYRIDm0SWWcUmkZUUsUm0HNgkimUJiMqll+i4qmWNJpGgPoqmMoqUTZVCW5MbMjZe3t7ymI53796VQ7+XLFmCbt26oXjx4siePTvy5s0rt0TS59atW8thnKNGjZJb80T79iGNHDkSnTp1kpc/ffq0HDpKIaTUkkgtiqaGWhQPHz4sLJsxNG/ePPnlAsMwiYNNIsusshSTOHv2bOGyLOsUY3os1SSSwREta0kyNaLjopeoPGpZq0kkyMiItmsMkQGlEExLhAwVhX3+/vvv+N///iebwgEDBqBt27Zy/8caNWrI/4v2KzGiPpPJkXCH9osSA4nKZAxRxloKnWUYJmHYJLLMKjaJLFOIMT1sEj9epkZ0XPQSlUctazaJBGUcFW3bGCKj+LHJbEwNGSpqWRSV2xhKTqN47NgxYZmMITaKDJM42CSyzCo2iSxTyBiIrhNbFRm+pMIm8eNlakTHRS9RedSydpNIkJGjEFFRGT5VZBRpKAtTJLP5VMhQ6RPhmEKUHdQcoaZq6FibMpnNrFmz4OHhYZHnlGEsBTaJLLOKTSLLFDIGouvEVsUm0bwyNaLjopeoPGrZgkmkyv6TJ0+EZTCGyICaKlvrp0KZQ2koCVG5jaGlS5fGm53UVNA53bt3r7BMxhCZf+6jyDAfhk0iy6xik8gyhYyB6DqxVbFJNK9Mjei46CUqj1q2YBL13L9/X1gOY8hSktmIiIiIwIYNG4TlNoYWL16cLOM5UkvpCRNen9SiSEN0MAwTFzaJLLOKTSLLFDIGouvEVvUxJpHGa6NhARKS6PyoxSbRfIjKo5YtmUSCxvwTlcUYotanR48eKVuyLGhA/y1btgjLbQyRUUyOljcyiidPnhSWyRii+oClmn+GSU7YJLLMKjaJLFPIGIiuE1vVx5jExCI6P2qxSTQfovKoZWsmkTBliyIZRRrP0BKh/oM00L2o3MbQ8uXL5SExzA0ZRcrmKiqTMUTn1FIz2TJMcsEmkWVWsUlkmULGQHSd2KrYJJpXyYmoPGolxiQuXbZMuKwxRC3QpoD6KJoq8QmFnr59+9YiE59QiyL1IxSV2xiiFkXRb7mpoWNtyiQ9dE5p7E1OZsMwOtgksswqNoksU8gYiK4TWxWbRPMqORGVRy1bNYnmSGZDg9xbIpRoxpRGkX5Dg4KClK2ZDzqnhw4dEpbJWLLUVmKGMTdsEllmlbWZRErBzbJ8kelJSC9fvVKuODGi68RWRcfDVIjuI7XMbRLJ4CSnduzYkaBMNRaf6HioZasmUY8px1Eko2ippoJaFE0Zekq/o56ensrWzAeFnh6RniGiMhlDdE7p5QLDpHTYJLLMKmsziaJlWdapW7dvK1ecGNEytqqUZhJFy1marl27phxB4yI6HmrZukkk7O3thftlDFlyfzbqo2jKZDZz587Fu3fvlK2ZDzKKR48eFZbJGKJzeuPGDWVrDJMyYZPIMqvYJLKSS8YwiaJWTGvUf6dP46lkFBPSxyC6j9RikxhXpjKJiYHG/xOVyVDWbhKJ8+fPC/fNGLLkZDbUomjK4TH++ecfuLq6KlszH6Y2iqSrV68qW2OYlAebRJZZxSaRlVwyhkkUXSO2rI9BtB612CTGFZtE83D27Fnh/hlDFKZIx9ISE5/QOIqmHHCfflO9fXzMvu+0vZ07dwrLZCxRplxLPKcMY2rYJLLMKjaJrOQSm8Sk62MQrUctNolxxSbRfJw7d064j8YQGUXKemqJkFFcsmSJsNzGELWmuru7K1szH2TgKEJCVCZj6XYCvx8MY4uwSWSZVWwSWcklNolJ18cgWo9abBLjik2ieTFl6KmlJ7PZtGmTsNzGUHLtu6kH3CedkJ41DJOSYJPIMqvYJLKSS2wSky5T8eDhQ+HxVUtUJrXYJH46KdEkEpcvXxbuqzFErWqPHj1StmRZkFE0ZTKb5ErkYw6jSH0gGSalwCaRZVaxSWQll9gkJl2mgk1iXNmKSaRW4qSKQvloEPP4JPrtMAamTmbz+vVrZUuWBY1xuGjRImG5jSHadwcHB2Vr5oOMoqlDT7lFkUkpsEn8RF26fBnnpB+ZY8ePy+MRrVmzBps3b5azB168dEm4TEoWm0RWcolNYtJlKtgkxpWtmETRssYQGUVTkVKT2QQHB2PmzJnCchtL1Jpqi8lsjh07JhtShrFl2CR+gg4dOoQmTZoge/bssLOzi6V06dKhYMGCcuy/aNmUKjaJrOQSm8Sky1SwSYwrNonxy5QmkUjJyWwWLFggLLexRNlBzQ0ZRVMPj7Fjxw5ERUUpW2QY24NN4keIWg47duyITJkyxTGHInXt2hWnz5wRriulydZMIrUYi5ZjWa9E51kv0fykVatWCee3VX0qlmgS6ZkgWtbSZArYJOowdejp8+fPlS1ZFgEBAVi6dKmw3MbSvXv3lK2ZD3OMo0gtlmwUGVuFTWIStXXrVpQpU0ZoBuNTjRo15IeVaJ0pSWwSWZYu0XnWSzQ/iU1i0mCT+PEyBf7+/nI/q/hEzzpRedQSHVtjyBwmkTC1UUyOhC6Jwc/PD8uWLROW21i6deuWsjXzQUbxyJEjwvIYS2wUGVuFTWISRP0Nc+XKJTSBiVGRIkVw4uRJ4bpTitgksixdovOsl2h+EpvEpMEm8eOVXHh5eQnLo5bo2BpD5jKJxN69e4VlMIYsOZkNvSz4999/heU2lk5Lv5nmhowidQ8SlcdY2rBhAyIjI5UtMoxtwCYxkaI3UZ9iEA1FbypF20gJYpPIsnSJzrNeovlJbBJNg+hYq8Um0TykJJNIpsKUQ0RQH0U6npYI/UaLymxMUaIgc0N9FHft2iUsj7FEyQsjuUWRsSHYJCZC1KG9QIECQsNHKlmyJFavXi1XVs5IDz96C0kJbUTzkjp06ICLFy8Kt2XrYpPIsnSJzrNeovlJbBJNg+hYq8Um0TykJJNIkFE0ZYvi9OnTYW9vr2zNsqDf6fnz5wvLbSxRvcrckFE8ePCgsDzGEoXsiuo5DGONsElMQGT6SpcuLTR7pFGjRuH8hQtxljsrPQB79eolXIZEy6mXSQlik8iydInOs16i+UlsEk2D6FirxSbRPKQ0k0iQUTS1qaAxIi0RSmazYsUKYZmNpeQKPTV1Mhv6PQgJCVG2yDDWC5vEeETjHA4cOFBo8khTpkwRLqcXLd+6dWvhsiSK/RctZ8tik8iydInOs16i+UlsEk2D6FirxSbRPKREk0hQQhJTtiiSLNUoUjIbU2c9PX78uGzczAlt7/Dhw8LyGEsUXRYWFqZskWGsEzaJ8WjRokVCc5cqVSqMHTtWuIxITZs2Fa6ncOHCsskQLWOrYpPIsnSJzrNeovlJbBJNg+hYq8Um0TwY0ySa8n4xBWQqTN2fzVJDT6lF0dShp2TCk8Momtr8L168GMHBwcoWGcb6YJP4AVHKb5GxI1EY6aXLl4XLiUSJaipWrChcV4kSJYTL2KrYJLIsXaLzrJdofhKbRNMgOtZqsUk0DynZJBLUn82UyWxIT58+VbZmWdDv9syZM4VlNpbWr19vdqNojmQ2JDLaDGONsEn8gDp16iQ0dWT2Lgj6ICakDRs3CteXOnVq+S2daBlbFJtElqVLdJ71Es1PSkyld926dcJlbVXUn+lTEa1XLXObRNGyliZTtEqldJNImKNF8eHDh8rWLAtqEaPoKlGZjaXkalE0dejpggUL5NBdhrE22CQKRJWbdOnSxTF0efLkwb79+4XLJEZTp06Ns069Dhw4IFzG1sQmkWXpEp1nvUTzk9gkxhWbxOSTKUxiiPTsdnFxSVCi8qhlrSaRIFNh6mQ2yTHofGLw9PSUDY+ozMYSGUVz9+Wjc2rqZDYUeurr66tskWGsAzaJAhUrVkxo5H799Vfh/IkVZUGtWbOmcN00ZIYoS6qtiU0iy9IlOs96ieYnsUmMKzaJyafk7N8mKo9a1mwSCTIV9GJXtG/GkqUms3F1dTV5H8XNmzcjPDxc2aJ5MEeLIrXE+vj4KFtkGMuHTaKBqJ/h//73P6GJa9mypXCZj1HBggWF2/hj+nTh/LYkNoksS5foPOslmp/EJjGujGESaR0Jie5B0fE2lKh8arFJNA6i8qhl7SaRiIyMxMqVK4X7ZyzReaR+c5aGh4cH5syZIyyzsUT3Nh1jc0JGcf/+/fIYlqIyGUMzZsyQjx/DWANsEg109NgxZMyYUWjgPiXMVC0a+kK0jTRp0sjjBomWsRWxSWRZukTnWS/R/CQ2iXFFlTxzQBVp0fE2lKh8arFJNA6i8qhlCyaRiIiIMOkQEWRWHj16pGzNsqBkLH/++aew3MYStbyZ2yiSKTd11lM6bhS6yzCWDptEA3377bdC8/bLL78kKZtpYtShQwfhttq2bSuc31bEJpFl6RKdZ71E85PYJMYVm8TkE5tE80FGccOGDcL9NJbu3r2rbM2yoNDJf/75R1hmY2nt2rVmH5jeHKGn1BJLfXgZxpJhk6ho67ZtQtOWPXt2nDt/XrjMp4g6SRcqVCjO9tKmTYtly5cLl7EFsUlkWbpE51kv0fwkNolxxSYx+cQm0bxQ/zlTD49hqcls3N3dTZ71dNmyZWbPDmqOZDbz5s3DmzdvlC0yjOXBJlHRh1r2Zv39t3B+Y4geEqJtFihQQB5bUbSMtYtNIsvSJTrPeonmJ7FJjCs2icknWzGJ1D8sqaKxBhOS6HfoU6GMnNTqJdpfY+nevXvK1iwLNzc32fCIymwsLV++HEFBQcoWzQMZRVNnsqXxJx0cHCyy7ynDsEmURG8ARWatSpUqwvmNpYsXL6JBgwbCbY8cOdLoIa6WIDaJLEuX6DzrJZqfxCYxrtgkJp9sxSSKljWGyNSYAmpRNGUfRdL9+/ct0lDQOJqzZs0SltlYouE3KLzXnJhjwH3qe/r27Vs2iozFwSZRUqtWrYRGbcmSJcL5jan9Bw4It03atXu3cBlrFptElqVLdJ71Es1PMqZJpPB2W9CFixdx7fr1BPWpWKJJXLhwofCYmEtUTtGxVssUiI6HWrZqEomoqCiTG8WUnMyGWt5oYH9zYo5kNmQUnz9/rmyRYSyDFG8SyYilT58+jkFr3LgxLl66JFzGmKLWwhEjRsTZPql58+Zya6NoOWsVm0SWpUt0nvUSzU8ypkkULWvL+lQs0SQu+vdf4bKWJlMgOh5q2bJJJKhF0dShp9SiaIlQ1k5Th57SSxhzZwel0NMjR44Iy2MskQGmcGiGsRRSvEmsV6+e0KCtXrNGOL+plD9/fmE5KHxDNL+1ik0iy9IlOs96ieYnsUn8eH0qbBI/XsmFu4eHsDxqiY6tMWRqk0hQH8WUmsyGji+FhorKbCxRshxzjzdojmQ2VOe7efOmskWGSV5StEmkcRFFrYhffvmlcH5TiiqZNE6iuiylSpXC6TNnhMtYo9gksixdovOsl2h+EpvEj9enwibx45VcpASTSFCLoqmHx7hz546yNcuCjrGpWxTJiFJfSHNijmQ2FHpK55W2xTDJSYo1iRTm+fnnn8cxZaRNmzcLlzG1WrduLSzP0KFDhfNbo9gksixdovOsl2h+EpvEj5c5EB1ntdgkmo+UYhIJMooURigqh7H05MkTi0x6QiGhZHhEZTaWqOUtOcZRNHUrMYn6nnIyGyY5SbEmcc+ePUJDVq1aNbP0RRTp0KFDwjLlypULp06dEi5jbWKTyLJ0ic6zXqL5SWwSP17mQHSc1WKTaD5Skkkk6HePBk8XlcUYIiNGRtESoXEUTZ3Mhoyiq6urskXzQOaNhlwRlcdY0rcoMkxykWJNYufOneOYMQo9pQxWovnNpbFjx8YpF6lmzZrJZl6NKTaJLEuX6DzrJZqfxCbx42UORMdZLTaJ5iOlmUSCxvijsf5E5TGWLNFQkJlycnIy+fAYf//9N16+fKls1TyYI5kNGcWzZ88qW2QY82LTJpFSgY8bNw7bd+zAGekm039PGU1FRqxq1arJbsTIdBQrVixO2ai/4oaNG4XLWJPYJLIsXaLzrJdofhKbxI+XORAdZ7XYJJoPY5pEOtbURSQpevzkCd44OycoY0NDRKxcuVK4H8aSpSazIQOX2N/dj1VyGUVTJ7MhHT9+XNkiw5gPmzaJO3bujGW0qM/f+PHj0alTp1jfk1KnTo01Zs5o+iH9u3gxPvvsszhlLFiwIM6eOydcxlrEJpFl6RKdZ71E85PYJH68zIHoOKvFJtF8GNMkkukTLWsMmQJ/f385M6doX4wlSx0e49WrVybvn0lG0cXFxax9+cgomjr0lHThwgVOZsOYFZs2iVN+/z2O0fqQatSoIbc8WkJIJ5Whdu3awnJSbL9oGWsRm0SWpUt0nvUSzU8yt0mkgeoNB0+3ZtEzISFR8o9PQXSc1UoOkyg6HuaU6FirZYpKaUo2iQQNBm9qs2SpSU/evXtn8mQ2VE968+aNWfeftrVz505heYwpGjubjSJjLmzaJNJg9CKjJRK1JGbLlg158+ZFt+7d5ZCQ05IBEK3XHKJhL7JkyRKnnBkyZJDDDkTLWIOo0qFGNJ9abBITr7Zt2yJHjhyJkmj5lC7RedZLND/J3CaRtida1lZFwwh8CqJ1qpUcJlG0rKXJ0dFROYrGI6WbRCIiIsLkYwlaYosimSlzJLMhI/rw4UNlq+aB9s0cLYr79u1TtsgwpsWmTSJlKlWbrKQoXbp0qFChApo0aYIRI0Zg/fr1cgdi0bZMoW+++UZYrm+//VY4vzWITaLpReN8Umhyly5d4hVdS6LlU7pE51kv0fwkNommFZvE5JMpTCINWUBGMSGJyqOWtZpEgvooLl26VLhfxtK9e/eUrVkOZKao7yCFhorKbCzNmDHD7EbZXH0UKckiw5gamzaJzZo1k1sH1SbrU0TGkcZX7NOnj/wA2rZtW6ykOMYU9T/Mnz9/nDJkypRJHsJDtIyli02i6UUmkV5uiKZNmTJFnkbh1XQtUT/dbt26YcCAARg1ahT+97//yfOIlk0pEp1nvUTzk9gkmlZsEpNPpjCJiUVUHrWs2SQSfn5+WLFihXDfjCVLTWZDdUVzGMUHDx4oWzQPZBRNnfWUxEaRMTU2bRJJ1O9i48aNGPvrr3JIqdpwGUstW7bEr9I2VkqVtwMHDxotwcx4qdIu2h4NiSGa39LFJtH0is8kksgIjh49Wr6OvvrqK7nFvXjx4ihcuLAcbp09e3ZkzJgRlSpVklvRO3bsKLdq9+/fXzaSdJ1PnDgRkydPFq7f2iU6z3qJ5iexSTStPtUk0vIJacvWrcJjrZaofGqxSTQOovKoZe0mkQgMDMS/0jUj2j9j6e7du8rWLAtzJLMho0ihp+bsy0fbMkfo6e7du+XQZYYxBTZvEvXavn17HKNlalHlevHixTj3iYaxdOnSwvXv2rVLOL8li02i6ZWQSdSLriHR94YaOXKkHN7cqlUrVK9ePc41SKIkSx06dMD3338vm8hp06YJ12UtEp1nvUTzk9gkmlZk4kwNPZtEx1otUfnUYpNoHETlUcsWTCJBIbii/TOmnj9/rmzNsnB2dhaW19i6ffu2skXzQGG1W7ZsEZbFmCKjGBUVpWyVYYxHijCJlAkwd+7cwgruoUOHcOLkSXksRero3KNHD2TOnFk478eKxjjMkycPSpQogf4DBsjGMSkhqvSGUbTeIkWKWN2QGGwSTS9jmkSRKBz1t99+k4eTGTt2LH766Sd899136Ny5s5wsisYbpaQ4WbNmRc6cOeVrv0CBAqhXr548D4W2jhkzBr///rtw/ckt0XnWSzQ/iU2iacUmMfnEJtF8UB/FxP42fYyojkNZTy0NfTKbpPzOf6yuXr2qbNU8UIviwYMHhWUxptauXYvIyEhlqwxjHFKESaQKhtpgkahf4aXLl+PMf/7CBezbv1/+oR82bBjatGkjZxUVreNTVL58eTRu3FhuraEb/EPZVGlIjBYtWsRZnsZSpHh+0TKWKjaJppepTWJiNWnSJNlIUmjr4MGD8fXXX8vhrVQ+6tdbpkwZuc8tGUh6gUJlJoNJIa49e/bEjz/+iJ9//lkObRWt31QSnWe9RPOT2CSaVmwSk09sEs2Lh4cHFi5cKNxXY4nqPZaIg4ODyfsoki5JdSpzYq5kNpRckY0iY0xShEkUDZ6fPn16uYIvml8kGsSUQlapjyBVcin0zhTGsUGDBhg4cCBmzpqFHTt2yA8z2j69iaIWSdEyx0+ciFNeSxWbRNPLUkxiYkV9G3/55RfZSJI5pNBW6idJ+0DmkTK1kpGksGsyl/RihRLuUIZWWoZMKLVoGstMis6zXqL5SWwSTSs2icknWzGJomWNIV9fX6W0xsPV1RXz588Xbs9YOn/+vLI1y+Lx48dyH0JRmY2py2Y2ymQUDxw4ICyLMbVmzRruo8gYDZs3iTt37YpjqkjUYiGaP6miih8Nj1GqVCm5Ips2bVrh9j5GZEIp8Y5+W927dxfOR+F+hmWyZLFJNL2szSQmVlOnTpXDVKnvI4WFU/ZiuuconJXCWinhDmX+pX1v2LChbDZ79eqFIUOGyMtRwp0JEybIpjS+fpOi86yXaH4Sm0TTik1i8olNYvwyhUkkqEXRlKGnJEs1ipSN1dQD7pMOHz5s9mQ2lJFUVBZjavny5XIfV4b5VGzeJPbt2zeOqSJRs7xofmOIKjSDBg0SbjcpomQg6nXny5dPOO/BQ4fizGuJYpNoetmqSUyKKEyVWuQpxLV+/fpy/0j1PUMZXanlnlovhw4dGt0SKTrPeqm3oxebRNMqJZtE0XKWJtFz3RiIjodatmoSCeqjaOpB50+dOqVszbKgJDui8hpblJfCnFD/S0o6KCqLMUVhu2wUmU/Fpk0iJYeh1gV15dBYrYgJ6eLFizh67Bg2bNwo98/6UEvgh0StHup1UvZI0bw9pIquel5LFJtE04tMougaEUm0vK2KEuXoE+5QiCr1eaSEO127dpVbJWnsyKJFi8ovYijMtXz58qgiPSsaNW4st0JSP6Hhw4fLy6vXzSbRtGKTaNlik2g6fHx88M8//wi3bSxZYosimSkatsIcLYo0pqE5oRbFffv2CctiTC1duhTBwcHKVhkm6di0SaTKnKhiTBVF0fzmEqUrnr9ggZzlkbJBispIWitVKtXLUvhp2bJl48xLfSwptFY9v6WJTWLyiowS9eejcQ/1otZ2ClnWi15EjBs3Llq2Oh7ih7R4yRKMHjNGvj+plbFt27byuKSGfZApaRSNKUn9JGk8SQpv7fn113JILP0wb9u2TU5UYHitsEn8eLFJtGyZyiQmhjfOzsIyqSU6tsaQqU0iQZk/F0h1BtH2jSVLDj01Rx9Fel6bEzKK5sh6ukT6PWOjyHwsNm0SK1euHMtIkSiboiUOG0GVSqqM06D8lLQjW7ZsOKKqZOpFA8+q94tELSGi+S1JbBKTV2RiKMMoXSt6ValSRQ5P1YuMD7Wk6UUta2SI9KLvaB69aJxESihDqlu3rpyJl65jkj7BjF5kSinZjF7UMkf9BfWiFzsU9qkXlVe0H6aU6DzrRcN/UKsitUKSuaakWHQM6Rg0atRINpMUxpolS5bo+5KO0RdffBF9TPTHgULSqUWT9pPWm5jt68Um0fiwSfx4sUk0PSk5mc2dO3fMYhQpWaA5xxsko0j9IkVlMaboBYOfn5+yVYZJPDZrEqlSYWig9KJKmWh+a1OdOnWE+7dx40bh/JYiNom2J+r/pzd5dH9RYhm9KHEMJZDRi16AULIZvch0UuIZvWh8RUNRIhpDUQgohYvrRS3xhuun7RnKsIWUhrOhLKh6USsphXTrRSHhZNboJRKJhp5Rn2/R/pNE4aZU4dqzZ488zimtl4bS0e8zjdtKofAZM2ZE6tSp5XuXogHIUPbv318OsaIf9vXSc2zX7t04fOQITv33X/QLLjaJyYeofGqxSTQfKcUkEpTMZs6cOcJyGEv/Sc8ZS+TevXtmCT1duXIlwsPDla2aHnMlsyFRizTDJAWbNIk0BlC5cuXiGCjSgYMHhctYmyjxjmj/qOJJ4zyKlrEEsUlkGYqyjFJroV4UDmsoal03lKGpo1ZHatHTixLVGLZatm/fXn6Zohc9E8iQ6UVDylA2Yr3SpUsnS29IM2fOLLcI6kWthRUrVpRFIabUckjbIJEhXrx4sfwmmkRhROprRR9uqt9n/f5R+Pv//vc/eR+o3zL1kzR8CURlpXKRoaRyUVmo9Vc/niSFB8eXrdUWxCbRssUm0Xz4+fubvFXt7NmzytYsB+qj+OjRI2F5jS16Vpu7RZGGWBOVxZiiJEheXl7KVhkmYWzSJB47flyuTBmaJxK1LIgGz7dGXbh4UdifkfpKUYIN0TKWIDaJLEuR2oSSUSPj+eDBA1k0jta5c+eiRYkGKMkNiUwo3X8UXksiw0Yi80aifsMU2q6/L8mQktGjfo1k9siAUkg5tZbmypVLbl2k+WlMSDKh1OJKoav6UGAyjfQ/GV36SyaVWiVp6A/9s46MLq2X1leoUCE57JXma9q0qVzeH374IVZYqzWJTaJli02i+SCz9O7dO7nbiag8xlJKT2azZcsWmww9pSRInp6eylYZJn5s0iSSGdRXzgy1bft24fzWKqq0Uoiaej+pwkmhaaJlkltsElmWrvgQzU8ShZuqRW+n9a2gFO5K4bkUAkuhsNQKSoly+vTpI6cup5bB36dOlfs/UkuhXjQ/9YUkQ0otm7Vq1ZJNJBlCUrFixWSTSGZRL3pxpH5GUOsk9SEV7UtCUq/L2CLjTC2kFMasbyFlk2jZshWTSHWEpOrJ06d47eAQrxydnJTSGo9Xr14l+nfsY3Va+n2zRO7evWuWPor03DHnMBJkFCmBjqgsxtTcuXPl0GWGSQibM4nHT5wQVjzoLb0lh2F+jKhVtFu3bsL9pVYS0TLJLTaJLEtXfIjmJyXWJIqWVUu0rFqf0ieRzCYZUjKpoukJiZ4vHTt2lM1p4cKF5WcrtXRSQiQKmaW+nh+bcIiGb6EWUmqJpVZVahGlllAy1c6SGYiIiFDORPIhKrdabBLNhzFNomg5Y+ja9etKaY3Ly5cvMWvWLOG+GEuWmszmxo0bZmlRpOyg5u6jaI7hMchkv3nzRtkqw4ixOZNIF77aMNGb9DVr1gjnt3ZRGJxoLEhqTaQO6KJlklNsElmWrvgQzU+yJpP4qaLni/o7MpydO3eWDSO1XlK/SWqp7Nevn2zwKClQYowjmUQyn/rPFB5LiXyoxZRMY9asWeXQYAoF9vb2litvFIJmTgzL+yGZ2yTSC1B6FiWXKCEGhV0mJFOQkk0i4eTkZPIB96meYe77LDFQ1lNzGEWqL5jzRQgZRXMMuE9io8jEh02ZROqnRyFXasNE34nmtxVRq4B6n0k9evQQzp+cYpPIsnTFh2h+Uko3iXrJYbK//y6bwhEjRshJfajvJfWXpNB4MoEUWvuhvpFqk6gXhX1FRkbK431RqBltg9ZHppES/VyUnv3mamVUl00kc5tECnsULWtpMgUp3SSSeSOTbmqzdOrUKWWLlgPtO9U3ReU1tmj4EXMaRdo3c2Q9pYYVBwcHZasMExubMokUFqA2SiRK2CCa31ZE/Q+pL5J6v6mF8eTJk8JlkktsElmWrvgQzU9ikxi/qB8mmcavv/5azgpbqlQpefxN+kvjalKYKrUQxmcS1VArIrWiHDhwQDalFPJKrZfUonnu/HmTDSCtLptIbBLFMgV0niljY0ISlUct0bE1hkxpEgkyFFTRT4mhp7Tv16XjKyqvsUXDY/j7+ytbNj3UokjPN1FZjCmqD1HoMsOosSmTSANbq40ShT1ZmlEyhSjJg3rfSXRMRPMnl9gksixd8SGan8QmMenSD/tBfQ4pkyv1b6RQVcrY2qFDBwwdOlQ2fzRvYhLXUIXq7du38vAjw4cPR+PGjeWxMykUllpB3NzclDk/DfV+iMQmUazkRFQetUTH1hgytUnUQxV9Snwl2jdjyVL7KFL3GlF5ja1FixbBx8dH2arpoecaPdNEZTGmZs6aBXt7e9l0M4wemzGJ9LZFbZBIlGBBNL+t6fSZM3LCB/X+U2siGRnRMskhNoksS1d8iOYnsUk0jqglkZLVkMErWbIk8uTJIyexoWFHqKJEleDAwEDlbCQM9YM7cuSInFSH+jXWq1cP02fMwLFjx+RhBEyV4t7Pz0943tQSHQO1RMupxSYxYUTlUUt0bI0hc5lEIiUns6G+k6LyGluUHTQgIEDZqukxl1GkkGUaYoSNIqPHZkwiDUKtNkiktVLFTDS/LYr6A4mOAaXLt5TxIdkksixd8SGan8Qm0TgShZtOnDhRHgpkyJAhch9EGmeSDN/u3bvlcFNKUU/9FRMDzXv8+HG5ryRFmVBfyX+kCt/Tp0/lacYyjWwSxUpOROVRS3RsjSFzmkSCQk9N3UeRBty3RDNhLqNIMnfoKY3dKCqHscVGkdFjMyZR1CevRo0aNjN4fmJ05syZOMeARAN509t00TLmFptElqUrPtTZGvVydHQUXh+GYpOYsBLqk0jJaahiRhn5KE38oEGD5IyqlPm0devW2C6ZpcSElVIFKCwsDO/fv5fHgqNhQSjqgloxqe/krVu3lDk/DjaJYiUnovKoJTq2xpC5TSJd35TMxtRZT8koWhpkpiiRlai8xhbVI+j5by7ovJoj6ykls6HMsQxjEyaRmv7VxkiuyEyfLpzflrVp0yZ5oGz1saA356L5zS02iSxL18fg7uEhvD4MxSYxYSUlcY0eMnuurq64dOmS3F9o8ODBKF++PBo2bIhvv/0WBw4ehIuLi1x5jA9aD7XA7NmzB+PHj5dfMlKSHTKNNORGUhLhsEkUKzkRlUct0bE1hsxtEgkyFNQiZOpB5y0x9JTudXO1KP7zzz9mHUaC9o1e+ovKYkxRnYu6MTEpG6s3iRelikGZMmXimCLSiRSQsEYtGgakdOnSwuOxfv164TLmFJtElqXrY2CTaBx9jEkUQeGnDo6Ocgp5GqeR+jRS9lMaFogS5lALCBnL+MJLaRqZRnpz/9NPP8lJcNq1ayeHvlLUBrVCfgg2iWIlJ6LyqCU6tmpRUiLRsp+qFStWKCU1LtQiZGqjSPeDJWJOo0ih7+aCjOLRo0eFZTGmKGSZjmFCL9gY28XqTeLhI0fkfiVqQ0Q/6qL5U4JWrV4th5iqjwmlmk/u8Fs2iSxL18fAJtE4MpZJ/BBPnjzBaun5SC2EVapUQdWqVTF6zBjZCD569EgeoD8+4+jp6SmXhfp5U0Kdtm3bYvHixXJFnEyjflk2iWIlJ6LyqCU6tmpZm0kkaGxRU/dRTOlZT2fOnAkP6XfAXJBxM8c4iqQr0nXPRjFlYtUmkQwPhROpzRAZJOqvIlompYgSO6iPC2nN2rXC+c0lNoksS9fHwCbRODK1SRRB/UnpeFKfRBqCgwbppwo1hZhSBkMaj/FDFSTKtHro0CE5tJUS4dC4j2Qa79rb4+y5c3Kki+j86aXeT5FEy6mVWJMoWtbSlNgkRElFdDzUEpVHLWs0iQS9IBFt15jiZDZ/yEbRXMeAnkvmSmZD4fyWeG4Z02LVJpF+nNUmiFSxYsUEf5xtXWQGRceGxiQTzW8usUlkWbo+BjaJxlFymEQ9VAGiDKfUmkiJa+bNmye3NNIwHEWLFpUH+79586Yyd2xoWXq2UQWRsqf2799fNo158+bFd99998FQf/V+iiRaTi02iQmjTjYlkqg8almrSaRrlOpm5sh6ammQmbp27ZqwvMYWtSg+ePBA2bLpofO6f/9+YVmMLQpxZVIWVm0Sf/vttzgmiLR582bh/ClNzZo1i3NsKDR3y9atwvnNITaJLEvXx8Am0ThKTpMogipgNHD2fanSt2zZMrl/I4WqNmjQQO7nSIlyaBq1NhpC4aaUNXXzli1yH8jOnTvL4an169eXM7KuXbtWbmlU76dIovOvFptE4yAqj1rWahIJup7N0UfREkNPad+p76SovMYWGUVKGmQuyASbYxxFEkXpMSkHqzWJFy5ckEN71CaoePHiwvlTolauXBnn+JCooiKa3xxik8iydH0MFJb42sEhXu3cuVO4PbVE15labBKTFy8vLzlJGA0x8M0338jh/ZTYhpLaUIbp+/fvy60Jhuf/5atXctgbtVBSNwl6DleuXBnNmzfHDz/8gAkTJsTZb5Lo/KvFJtE4iMqjljWbRD0p1SgS5uyjSCG+ZE7NgTmNIm0nOe9TxnxYrUlcuHBhHPNDGjZsmHD+lCp6660+RunSpZPDE0Tzm1psElmWLlNx4sQJ4fbUEl1narFJtDyoxZFaD4cOHSpnUi1ZsiS++uor/CuZCgrBc3Z2jjOMxs8//ywPT1SkSBHkzJlTzkxNnynxGrVATp06VXj+1WKTaBxE5VHLFkwiwclsxGU2psiIv3792qxG0ZyhpzRuLWPbWK1JpB9Stfkh0Zta0fwpVRs3bRIeJxo2JDn6bbJJZFm6TAWbxIRlzSZRBD3vTkkV0j59+kQ/e+m3iypyZCrV+0ldKLp16xY91m2uXLnkvpB07YiuA73YJBoHUXnUshWTSFBIpKgsxpQl9lEkqO+wqLym0L1795Stmh4ypOZKZkPZVRnbxipNIg17Qa1h+h9dvVq2bCmcPyWLQqIopEl9rEh7kyEDLJtElqUrsVSvXl35L3GwSUxYtmYSDaHB+ikpDlXMKSSVjCNlU82dO7fcgvj111/L4ar6fSbDOGrUKLk1kY4LzVeiRAkMHTYMW7dti3U9sEk0DqLyqGVLJpEMxfPnz03eokgv7y0Nus727NkjLK+xRcf36tWrypZND7Uommt4jI0bNypbZWwRqzSJomEvSFRxEs1vK6JseaL9NqZq1KiBxo0b4+tvvpGN2Zo1a3D02DFheT5GbBJZlq7EQvdLUmCTmLBs2SSK+P333+WQUzKM1DeRsqlS6yH1t69WrRp69+4t9/+hc04tklQho/k7dOggh6hSAh0KTaX+T7Qu9XFTS30dWaJsxSTu2r07SaKX31R3Skim4OLFi8J9MKYsMfSUzJQ5jSINq2MuzNlHkY2i7WKVJlGUsIYGRqZWM9H8tiIyiWRuaOBnyrQ3ecoUubJAw1rUrl1bDiGtWbOm3KJKlYsRI0Zg6rRp8uD6lMJdfcxI9ONE614vVcLoM7UuLl26FL+OG4c2bdrI43/Rsa1UqZK8nZ49e2LkyJGY888/2LR5Mw4cOCBnDFOX9UNik8iydCUWul+SApvEhJXSTKJ6P0nUckh96+nZTlEg9PwtX748unTpgl9++QVr162Th3+i7gI0tEZvyWDScz9//vxyAh0KZ6V+kdQSqV636FqyNNmKSRQtawyZCnP007PUPormanUjo0jD6Jirj2JUVJRcRxOVxdiiEFeKlmBsC6sziVQ50hscQ1GWOdH8tiQyiTRQs2iaoahDMWU2pRuXKhBkHosVK4bPPvssznGjNO40JMb8BQvkz5SW/dLly8L10o8IDS9C66UKDJl1eptN44hR5YTehk+cOFEuI5lPaoE8LRlIQ/POJpFl6UosdL8kBTaJCYtNYlzR+SZDSCGq48aPl5+7BQsWlBPdDBgwAHPnzsWChQtlU0jmskWLFvIzmX4vyGD26NEDo0ePlqd/6NluqMQO1ZKcosR1pkB0PNSyVZNIUOIl0b4YU/SCg1q5LA1zGUXSjRs3ZANnDuhYU8OCqBzGFtUPaaxZxnawKpNIP5T58uWLNjiGMmZIpKUqsSbxQ6K3zaJjR62Q6u9oXK8pU6bI43kllDRBL3pjNX/+fLniol4fjdlICRjs7e0RFBSkXCk6ROtSi00iy1xKLHRdJwU2iQmLTWJcic4/iQwfDatCBpBMIZ2XVKlSyc/aH3/8UV6WMqRSC2SGDBnk6YULF5ZbMyiZiGidJDaJ8cuWTSJBfedE+2NMUauTuVrTksLu3buF5TWFyJCbC3Mms6GxY5MzGoAxLlZlEg8dPoz06dPLP3aG6tevn3B+W9OnmsS///47zrEjUViqPtz0yNGj2Llrl7wdMomDBw+Ww5co3IneXtNb7IoVK8p9FympAv1YU0VFXemgCswZ6Tsy7/TgpR9WMonTpIfId999J4dG0VvuunXrokmTJnKaePpxcnV1Va6i2FDZRQ8kkQzL8SGxSWR9SImF7pekYEsmkRKomEI5cuSQk7hQWCWFXeq3ySYxflEiG4rioK4ANG4jdROg53XevHnlaA/qgkC/k3Td0LGtV6+e/D09g8ePHy/3y9K3MqZkk5gY6FoUlUkt9TkylkwNtTzRONSifTKmKMOvpbUo0pAO5jSKFJ1lLuhY00D4onIYWxTJxkbRNrAqk0iGRW9s9KJU4cmRpTM59Kkm8bz04KcKmPoY0pt7vUkULafXufPnZdO3QzKF1G+RTGLfvn3lscCoNZLWTckWKPFNu3bt5P6L1AJIfWiolZG2rw83pQcWDUhNA0xTZ24KmRo3bhz6fv+9/CacWj2pNXPgwIFymBQZy+HDh39wwGlDicquFptE1oeUWOh+SQq2YhLp/qaXRCR6aVS8eHHZ3Bk+U0TKmDGjPC+JnhO0PCVeofVR0pa2bdvKA9JT6DpljqVxBmleMjv0l0LcSfQsIMNDLWhkeChMjBI03H/wAA8fPYKnp6csa0B0fNUSnX+1PpTdlJ6p9LvZunVreexGetbTsaXnM/VbpOcpHU9qwaUXgXT8KWkZvTgUrc9SxCbR9Jgj9JTuW0szioQ5Q09pKA5zQcfaXMlsqI7IfRStH6sxicckcyKqeFBfO1tPWKPXp5pE0pgxY4THcdKkSfJf0TJJ0cmTJ7F9xw4sXbYMEyZORBup4keVQDJ9VOmj/jJUwaNpFJpKiRdu3boFpzdv4O/vr1xBujd6Tk5OuHTpElavXi0vX7ZsWbnCSCHH9D9VMKliSdluqcIzduxYufVTVC612CSyPqTEQveLKRBdZ2olp0mMT5Rhk4ZxoHuRQh5JvXr1Qvfu3WWjojeXZFZI9EygFsQCBQrIrV4UYUAvm0hkaj7//HM0atRIXp5avCiigMwhVUDIANFg1ZRgi0TrJ5NDL5no2UBJXyhbKBkiWn7EyJGyKaJ1UEgUPXvoTT49f548eSI/g+jFFT2HwsPDlbOR/IjOv1pJGQLjyJEjssmi8RipRZHOAx1jei5TVwGK7qBzQkNu0Dno2LGj/IKOfiNE60wOsUk0DzR0hWjfjCk2in/g1KlTZu2jaK5kNhQh5uvrq2yZsUasxiRSim9DU6MXNWuL5rdFGcMkUprttGnTxjmOVDmjv6JljClqSfTw8MDtO3eiO1NTqwK9xabWAqooUmXlz7/+ktMq09tMGleMWhOpgkcmkJahvjaDBg2SQ2GpMkjLUSKHTJkyyRVDyu5KFVaqTFNL87Hjx+UkOvqQKjaJrA8psdD9YgpE15lalmoSjSUKNaWhHuilFrWEUcIWqkzSiyWKTqDWMJLebJKpJGOjf4aQaNxBepZQmDuZSXoe0O8IPUvIxNI0WpbmpRdP1F9P/1e/DjJSNB8tP0/aNoWiUeKNO9Lzi/pXu7i4yCHyvn5+sujNubENpuj8q/Wp4yRSsjOq0FFLLRn2rFmzyseGwlaptZieq9QSTAafjiudl+Q0jWwSzYc5Qk/JkKV0o0jddujluKmhbZBxW7JkifxsTUx01qdo1qxZ8viwjHViNSZRNCA8vYVOTLY2W5ExTCIdL8poqj6WeomWMaZE2U2pUzW9RaPKFWXGogfY/fv35UohvfWnN9kUVkzmNl26dHISBnrzTZUVGiOMDOO0adPkSiBVCE+eOiV30qYEDVTJowoP9WWlSg4NXt2/f385EytlAkxobDHRPhiKTaLtKbHQ/WIKRNeZWrZuEtX6UJ9Eem6QIiIjES5VfvTPEJIfGTfpWUIvmW7fvi0P1bNZei6slI4d9d0jUb88ejbonw+Gf0l0jukZ8v3338utorQMhWJSmD21TurnIxNFomdNtmzZkD17dln0UmvBggXyyzka5/DVq1dJDoUVnX+1jDmY/pq1a+VyU8st9W8ks0jPXxKZcOrHSPtKz2IylPoXcqLtmUpsEs0H/T6bYxxF+s22NKNI5THXOIqkHTt2KFs2HvR8fPbsmWxC6VlGzyeqB9FzjsLM6WWcqCyJFf0Wbd26VRZ1KaJr9MbNm3B0dJTl7u7O/ROtGKswidSiZGhk9BowcKBwfluVMUwiiSpJouNJEs1vTIlMYmKgt1H05ppCzKiSRm/36YFHfZno7Ta1ANDDj97+U2IdCk8dL5lHCkvbLT3kKQxW35/yX+kYUggcLUstmPrlChUqJFeCyJRSX0jq75TQSwg2ibanxEL3iykQXWdqsUk0LvR2PTg4GIGBgfB8/14WGToSVZAp7I5a2yjFOw1FMePPPzF9xgzZPJKRomcJRWPonyMUqkn/Gz5bqVL2xRdfyC8869evL7fQ0fi19Ayi76hfN4V6Ung+jUk7Z84cLF++XDZE+ucYJZ4Qda8wpkkUJa4h00itr/roDWrFpf0h40hDK9EzlPaZ9of6kpPBVK/DmGKTaF7ILFHuANF+GlOW2KJIBsecyWzIzH0MFCpP54hC6en5QfUiesbQ84TqTvTcuiJdP87OzvILNDKPdKz1L9HISOqNnZubmxzxRS+0KPyeRM9GipQgRUrLMikDqzCJVBGnrJjUf0L/g0tvMqlvhWh+W5WxTCIZJsPKi6FE8xtTH2sSE5PdlFoRqSJDD0MKSxuuvPGnECqqfFFFjB6clE2V+trQg5TeglNrpL5lgVoYKRMgVeYobJXC2CpVqiQ/aClBDyXjmTdvHrZt2ya3WLJJtD0lFrpfTIHovlGLTaJlQmbTx8dHDq+ipFwkGjybjCaFqVKrIolCXkn0opNE0R3Ul5KeM/TCi5QmTZo4z2e9aHq5cuVkkeHUJ/uh5xt9pr6ZZF4pKQ093yjJGL1go2eW6HoyVGKzm9LzltZL26FnKo3HS7/L+jJS/3HqStCpUye5H6loHR8rWzGJ9FsiWvZTZYoWKcIcSU+4j+KHjSJFStCLK+qGQyH5dH9TX2y6/2moG7rP6Jo6f/48HBwc5BdfDPMpWIVJ1ItadehNLv2Y0g+TaB5blrFMIokqEoaVDr1E8xpTpjSJeom2qxdlmKSwFkrQQA9XqmRR2DK9/c+VK5f8P73Rp2uMKjc0SDWFX1H8PvWFohh+OnZU+aG3dGQgqWJGxpIqetQCSQ9qivM3TOHPsh4lFrpfTIHoulWLTaLtQ2/zqc8jRdKsWLlSzgBNxpLMHplJEiX2oRde1BpJzzAS9c0mqZ/thqL5aXl6xtGLMUr8RZETf0yfLif4oRZDCsenl24kGl4jMX0QqcWRTCm9mKMXbBSOqh+jkX6/qI8j/XbTM1Lfv/xjxCYxfpnKJBLmMEvUAGCJRpFeQIvKa2xR3YH6T1MEA41VTfcfvaSmFzFU/6BkXNRPml4+0TPCEo8VYxtYlUlM6TKmSaQKgLriQBLNa0wlt0nUK77ENZSdkSpJFDZFojAyCqWiPkYUy08ZWqki9Oeff8rmUZ/BkTIsUsWIQq/ojTr1VaLPFIpGFTF6605hWFTRM3cfHlbilVjofjEFoutVLTaJKQfR+VcrvnBTMnlkyug5NVcyJRS6r888S9ESZOSoZZIG5CdRv0p9n0PqB07hpOrfCXq5Rn0T6ZlHhpDCbukFGSW0oT5OZGSprzhVbklDhgyR5yXzSs9QfZgqtX5SH3F65lLLpKj8IrFJjF+mNImEOfrpUWI7Sxtwn0I0KVmi/EJFUGZjieoIdB9S/YG2R0myeDgJJjlgk2hFMpZJpLdT9COt/uEnieY3pj7WJNJyiZVou2olJbsptWBTPyAaJ/LM2bM4cfKknD6fplO4KlWw6HhShYqMIVWC6G0fhX9QxemHH36Q/6dwaXrwUxgZVcCoTw/NRwkwKMW8etus5FFiofvFFKivVZHYJKYcROdfrU/tk0hDDV2URM85GnJInwSMWg/J5FFkBJlNvbmk5xn13aYoCgrjp98mw9+RVKlSyc9EetbpE47pk/yQUaTKLw1jRENY0bxkGGk+iuagF3MJGcbkNIkU8if63VFLdJzVslaTSC1XNBi+aNvGlKUls6G6E+U8oBfB9BJEVOZPEYV6UwKY7dL9rM+H8OLlS2XrDGN+2CRakYxlEmlICMMfdEOJ5jem6MfT1Ii2q5axh8Cg0CmqSNFbdGplpLEb6Q07hXRRSKp+HDhK7ECiBDlkGqnvI4lCxijUlSpQFDKmD3ulEFZq1TR1IghWjBIL3S+mQHSdqcUmMeUgOv9qmTpxTWJF5lLf35KehdSCSa2I9Ayj1kaKuKCs1BQ6RyH9lGCMsqeSWaRIDcM+jWQWRdsgJadJTCyiY6uWtZpEglrVzNGimNx9FAMCAuSuJvQ7Ttfx9evX5e/oGB86fFgW9fW9evWqrHv37uHp06eyqF/g27dvZVESGOqvTKLsy/qXCRwqylgybBKtSMYyiVTholAh/Y9xjhw55FAg+l80vzFlqyYxMdJXnOhNPFWWKP00JdShc0GVJErHT30OKJSL+jvSZxL9T9Np/DYaC45CxGiwcOpPRD9aVBGjdYu2yUq6EgvdL6bgjbNzgqK3zaKy26pSskkUnX+1jh8/LjxuaomeYWp9ikk0puILyWeTGL/MYRL1mKOPYnIYxQcPHsi/1fQbTa2G7969U6YwTMqBTaIVyZh9Ekk0dteBAwdw9uxZrJcqYWwS40q0rKGMnd2UWgzph4netlMrJCWYIJOoT0hBRpG+o1At+kxhXBT6QiJDSVnOqM8ktUBSmCuZUmrh5D6QiVdiMZVJTAx034rKbqtKySYxMVy7dk143NQSPcPUshSTGJ/YJMYvc5pEwhxZT+mZZ2qjGBQUJNeH6PeTzCFlMafwYoZJqbBJtCIZ2yQaik2iWKJlDZUcQ2BQAhxqiSQzSGGr1M9Hn2SC+gFRayP1+aHzSaL+PiQylzTGGbU+UqII6m9E5pEyqU2bNk24rZSoxMIm0Xxikxg/bBItD9GxVctWTCJhjtBTarU0RTIbSgpDfSzpd5TCnmmsQIZh2CRaldgkJg7RdtWyZpOoFhk8Mntk+igshjIM9uvXTzaE1LJILY7qREX0HZlK6gNEyXToh5HGOqNxJan1UbSdlKLEwibRfGKTGD9sEi0P0bFVy5ZMorn6KFLWU2O1KNIA8fTSlRImUb/D9+/fcx9BhjGATaIViU1i4hBtVy1bMomJkT6xDqXupuFPqCWSkkdQ0hzqA6kfy8xQ1FeVQlipVVI/KDaFwpoiq5slKbHQMUou2CQyhrBJtDxEx1YtWzKJhLmM4r59+z7JzFGWUkqcRNE1dL17e3srUxiGMYRNohWJTWLiEG1XrZRmEhMjSnVPrZCDBw+WTSS1LFLWVUr5TX0hDQ0kmUpKpkPmkYwmtVrScB+URCcxg25bshILm0TziU1i/LBJtDxEx1YtWzOJemjoClG5jKmkJrOhVkPKCk3DTtG4xWfOnFGmMAzzIdgkWpHYJCYO0XbVYpP4caK+jNSa2LNnTznDKvWJpKQ6NAg3jQ+pN5E03AcN4UHDgFAI69ChQ+UwVsrCaun9HxMLm0TzKTlMIg3BYC2wSbQ8RMdWLVs1iZGRkdFjCZtShw8fjtco0rQ3b97gn3/+kX+TvvvuOzg5OSlTUy4PHz5U/mOY+GGTaEVik5g4RNtVi02iaUQGkFoT6ceYWiIpXFWfWIcG1qYEOnSdUcbWpk2bymOnUUZXMo+TJ0+W+1Ymt4lMLGwSzSc2ifHDJtHyuHb9eoKaP3++cP8+VcltEgkKPTXHeK408LzaKNK2yQxSllKqN1GWUiYGa3q2MckLm0QrEj3sqIM1DcxubOXOk0eu9IqmGVMUokitT6aUaLtqUeIW6nOXkETLGip//vzC5VgxoqQ4lByHQlTVCXT0ou/JTFJrJM1P/UVEFQJzKLFQuZMLNommh02i5coaTGJiWLFihXD/PlWWYBIJGj5i5cqVwjIaU4ZGkcJQCxYsKP+G3Lp1yywvpq0NNolMYmGTaEWioQp+mzTJqkVvFikMxZQSbVctCpfs0qVLghIta6hx48YJl2N9mqhfpKgyYA4lFjaJ5hObxPhhk2id2KJJDA4OluuAp06dwpw5c+TWPIocobF/RWU1lqifYaVKleRspfb29knqr5jSYJPIJBY2iSyzylLe6lElQ/RDo5ZoHwzF4aa2p8SSnCaRMT22WJESPcPU+hiTSC8wKXtyUkSV+aSI+jUPGDBA1siRI3Hx4sV4df78eSxYsCBJmjlzphz6nlhRsq8ffvgBAwYOTLS69+ght3KRypYtGysKhvp3U985+kvmSnSsEyNTm0TKBkr1vEuXLsn9/aivem/JpNEA9DTsUvfu3eUXfX/++SdOS7+RL16+xOrVq4VlNZboeNHLpOQyh3T+rAU2iUxiYZPIMqvYJLIsXYmFTaJtwybxD+HQOB8SmZukiIwQZU1OrKh/c4kSJWSVKVNG7tOckMjALF++PNGirJwXJeOTFNHA62/fvo0l+u7Zs2e4c+eOPNzC5s2b5f6HNHwQjWFL/bWLFi0qh0XScSCD0bJlS7m17aeffpL7aRs+k5KqTzWJERER8PX1lZO+UMjmzp078edff8lJyGjIJMp4TYaQjjH9lpIpd3NzU5b+MP7+/vDy8oolDw8PPHn6NI7uP3ggZyBVi/aNzKBaZEIpUunq1avK1swLm0TGFmGTyDKr2CSyLF2JhSrGjO3CJlFnEvv37x/r/lCLWgXpXhBNM5UsLdyUkqScVMIr27VrF8s8k6hbwrbt2+WWN1dXV2Upywk3pd9lMldLly6VW+QMy165cmWsWLlSNrwUSsqIYZPI2CJsEllmFZtElqUrsVAFirFd2CSySSTevXuHS5cvy61U1O+tSpUqcpgoJWGjVsDevXtjxowZciskhbjeu3cPLi4u8PXzQ1hYmLIWMeY0iQ4ODvLv1b///iu3ANJA8rQP1KpL2agXL1mCEydOyMMjuLu7y+MK0lAWTOJgk8jYImwSWWbVp5rErVu3Kv99GmwSWR9SYmGTaNuwSbRtk0gGiEIkb9+5I5sq6uf4zTffoH379mjcuLHcgtaiRQu5bx0Ny7Ns2TI5GQuZQAopDQgIUNb08ZjCJA4ZMkTuE0jJ2aj8NWvWRPPmzeXzOH36dKxduxZXpPNMptEY+8DoYJPI2CJsEllm1aeaRBqDzxiwSWR9SImFTaJtwybRek0ijZNHfeooDPT27dvYu3ev3IJGY7GS6fvyyy/lfnXUN7BTp05ySxpNp5Y06gvn6ekJrVarrM10mMIk6g3ikSNH8Oz5c5NF71iTKTIHbBIZW4RNIsusYpPIsnQlFjaJtg2bRMs0idSqRwlp/Pz85P59FB5JGTSp3JRxlM4bhVBSgpsKFSqgWrVqGD58uJw8hvrdkXG0FKx5CAw2ibFhk8jYImwSWWYVm0SWpSuxsEm0bdgkWoZJpDBQyqrZunVrObMmbctQ1HJGrYBkFJ2dnZU9ZUwNm8TYsElkbBE2iSyzik0iy9KVWKiCytgubBJNaxKpRfCXX37BoEGD0K1bN3zxxRdyRZuGu6CWwGzZssmf69Wrh7Zt28r9BSlUdMyYMfjrr78QFBQkh5UyyQObxNiwSWRsETaJLLPKUkzi3bt3ce3atQQl2gdDsUm0PSUWNom2jS1WpCjrZkLas3dv9L3wsSaRDCCN9UdhntQK2KZNG3lcvapVq6J06dLInz+/XKmmz/Xr15cTq3Tp0kU2jDRwPo0nSOswXKehEuqT+DFUr15d+Y9JDGwSY8MmkbFF2CSyzCpLMYmJRbQPhmKTaHtKLGwSbZuUWpGi5C36e4FMYqNGjWQD9yFRNlC6F2hYBcqkWbJkSbklkIZXoKEiaMiIBg0ayGGhP/74I3799ddY99vHiE1i8sMmMTZ8PBhbhE0iy6xik8iydCUWNom2DZvEP2SjV6BAgURpwIABcvio4b1kKrFJTH7YFMWGjwdji7BJZJlVbBJZlq7EwibRtmGTaLlik5j8sCmKDR8PxhZhk8gyq9gksixdiYVNom3DJtFyxSYx+WFTFBs+HowtwiaRZVaxSWRZuhILm0Tbhk2i5YpNYvLDpig2Jjke4T5YO3McWjeqIf/ekCrWb44fZ6yCV4glZPYNw7RvyqHNxifKZyYGDS5tn4XTz33kT2F+r5AlQ2pccg6QP1sLbBJZZhWbRJalK7GwSbRt2CRarqzFJJ74Y2B05T620qPv/rfKXB9GG+yBylkyYOUl3fiPO6Z9g4INViFSK39MVoxpirRRYXh0YQs8AsLkzx63NyNtoXKIlD9ZB0Y3idoQ/Nn7c5St8x2O3X2lfAk8vLIHX1UqgkbDV8MCLgPmg0SiQeWCWHXbQ/lsnbBJZJlVbBJZlq7EQpU9xnZhk2i5siaTWLnBXOVT0kkpJjH8/RP5eXrfI1j5xvowrknUwOviDOQsMhDvQjTKdzGEOZxE8YKNcCswpjUxMjwU793fwdHRUZIbQsINpgX7wNHZF5ro60aLUF9XOPsEK0ZTi/CQAGVZR7z3DUSUNuYi00aFw8tVt+43zp4IidCXSQtfz7dwDwxXPieiHJ6BiJDmcXv3Bo5v3iIwOBwGmxIglTXQT7c+l/cIi4zdghoeGgyXt9K6HJ3hG2RQv9RGwlNaf3CkBsH+7+Xl3Tx9EREVs7H3bu/gHRQurd9XWb8XwqX5Y6GJgK+7izzd1TtQOjOx0Woi4eep29/3vkG6Y6zVwNPxJWqVy4dZh2/B3TtE+ioCTk6OCI1evxaRoUFwlr5zdHSCT2Coci50xJRNv++xy6aVthHk66mb5uyCoBDdCxZjwyaRZVaxSWRZuhILm0Tbhk2i5YpNovwxWWGTGBujmsRIX/xWIDUm7XsSyzhEIxmE8LBwRCmuT+Njj6blciNdmlTycbSzS43MBbvjqa/OvDke/g2fFZkB32iPEYnzM75Aod8Oy6bH6/5+FMycUVnWDukyZMJ380/Jc2qjQvFH84pIl1q37s8+S4vMWTvBJTBCmho73DRR5ej+BxrVKI40qT6D3WepkDVXeTzy/nC98OmxBciSKYNufanTIn/LkfAM0+2Ixv08SuXLhtSpaFufIUOmAvjjoqvumEU545tcJfHXgl+QLWM6efk0aTOg1W+75WWJQV9WRteRI5Alo3796VDnu3kIVA467fuEeiWQIU1qeXrq9NnQ7a8TCNMbzQhvzPq6CjKk1e0vHbfBq69J3/uhL61PUYcxx+OEm75/chxZs2TCZ8o86TPlwaQdD+VpRHTZovddV7YAedcjcXfVYGTNkFY37bPUyJSvNC66x5h1Y8EmkWVWWZtJ9PLyilf0FkdUiWFZrxILPZwZ2yWlmkR3d3c8ffrUovXqVUz4nbFIHpMYjA518mPMcUfls0TkEzTOWgrHHUOTbBLv75+HelVKyM+m1HnLocuf+xCiVGhd7x9Ek89rIm1qqXJulxU1Gn6Nk6/95Wm6clTCb3//ic+rlJaXz160Asb+e1JX4dYGY3HlLBgzayG61a2E1NL0NOnSo8mo9QhUWpWiQjzwV/dmKJZBV2EuWqUJVv73TJ6mIwzbZo1AxRJ5pemfoUTlOpi37x4Q9AqtpPnlyq6kaVJFWR1u6nJzL5rVr4Y08jxpUa1Be/z32FOepg3zk4/RrIXTovc9Xf6KGLX6OsI/cJxMgTFNYoT3c2SU9uPoS2/lm/j5p0tdtB61Ev6h1MqmRdD7Z6hSJBsmb9eZjvhNogZ/fN8INYZuU463Fs6PruHE5XvyuQ9xOoC8qZvitmuQPDUi0BP79++Hq9x6GNskJqocdpmx6sQDhEsGN9TnJQZXzoYeq27qrjMVWsl0NshZBL/vuCuVTYswfyd0rF4cg/+5gMhAF9TPnRYDFh2TthcBTUQI7hxfIp3/fDj+XDpuskm0Q+7mv8HFj8oaiRsbJyFdsS/grhwHMmL5636Npy6+0sY08Hh6CCWzFcO+p37S1CjcWzsQ2RoOhf07abq0fR+nW+hcqQBWXnwjL//f/GHIVbgjXnoGSlM1uL9jKrLn/QJPQ2kDscNNDU2iNug1epcrgJ5/HYd/uDSvZEbv7JmLbFkr4oI7me+Ysj1+6yNtWhtdtq0PfBAhHbfcqTNg3VVH2eRrwgNx59wRXHaS1i0vbTxMUsuhyvMbZ2cWK44iIz+tl4G5TWJC+Pr6Co0Gy3qVWKgywtguKdUkplRMZRLzFmmNqVOnxtIapZJpTJOo9bqEstmL469tNxAhVRW9X51BkSzZsO7SG4R73kfDgnnw/bJTkqmLkirYnlg1pQ9yluoIL3ldunKUqj0Q9m91FeIr60YjW+6WeBwgVfgVk2hXsCEO3KOyROGPiT8jQ5rMOPmCEnNEYs8fPZH/y8F46k6tgVF4cnoNaldugFveut/8R5vGIpdUQT/54J0cKndn92/Ila8hbnqEx2lJNDSJ2qBnaF6qMH74cz98I6TChnthy7ivkbd8D7wKjIo2iQUbDsRtR8kcaMJwddsUpElVA/c9P+2ldFIwRcvqf05kVnTQtVBM+o6+1ykzJp11V6YqaCPw7tlTPLE/jVoFc2Lsqtvy1wmZxEVDWyF3yRb4c9NpPJUMkeHlFepyGgUz5kHfkXNx9cErBMe69j6QuCa+cmQbCnelJVCynDg5oXZ0i6aaF/smI13VzvA12ObtXRuwcud5eD0/JB2DCnjjrzNVhDbSHz9lt8OQlVcUk5gdv0nHSL94hMMJ5MhYGQ+VaigZsd6Tj+o+yPijcYWcmHvFVbquPPFNxnRYcdNNmUZo8WrXUBQbvEEqeSBGtS6B+n9eUqZJhLpizdS/ce0dXXcfNome11chTYn68DY8ltoATG5TDC1X3JfL+6Gy/X5WqkdLZrlqxtT48tvhOHDhNtz9TBNqSnAth7Eq2CSyTK3EwibRtmGTmLIwlUnMmquyfC0Z6n+7HytzGMskamC/qCPSNRkPf/00TSTWDvoes3bewNN9fyJf5c6xKuLawBdokT4XFt0PlD7pyjF04z3dRCLkDupm1JVDbxJb/HEgusKtCfVG6Szp5bJpg56jdaaiOORiGO4WhfXj26HhoruyERnZtAraD92mTCN8MHnIN1h/0yVek/ju6P+QttYA+Bjus8Yd7cvnwe+n3kSbxD/2PlImSnV1nyfIkj41jr4kw2sejGkStcGuaJDWDquuvVO+UeOLkV8UizaJge9uY3TXutIxTIMSVeugbsMWKJgjUyJNonSqvZ5hcvfWqFWxsHweyjfqhk3H7kpnUCqLJgrnN05Fk4Y1kSO1HVJlzoXx05fCRU4yFNskfmo51Fyc/R2yNv5WLocap//mS9sZontxEE049vcthlYzDiomMT9WPdS1gBJRzmeRR2USf5wrGcpogvBl5dw6kxjgjCLRhlylAj/DK8oVvcpliiez64dN4oPNv6Jo3T7y9zFosG5CaxT5+aS8vx8qG5lEmtf9wX50a9YQ+aXja2eXBR2GTcVtJ/9YBt8YcC2HsSrYJLJMrcRCPxaM7cImMWVh1eGm2ghs6VwMefrPFVa2xeUIwIxWxZQsq7py6CqgCgbl0JvEodRCo6A3Z1Q2jesV5FFXpBVlqbwYYdowtKxZCN/+flZZOjbxmcSzk5qjzkB12aMwuENVfL3yTqxy6NFXyK3VJFIL24VJn6POxL2xEsjEYGgSozCkVim0+Wk1YtpNdQblg+ZMul7OTK0nMGdaBDvdwoyvmyCNXWkcfqNqoYrwxcmtS5FZMuC1pxyQljU0iR9RjgRM4t01w5ClYS8Y+sCo8BD4BgTB48EO6ZppCPfgGAup1QRjVhE79F4gXWefahJD3NA8VQYceP2ha8gHg+rmQqu1Mf0I6fiFBPohIIw28GGT+PbcfGSo1DR2OLR0j8zpWxE1Zl+Tj0X8JtEQDZ7e2I+ehahPaRd4yaGuxoNrOYxVwSaRZWolFqrUMLYLm8SUhXWbxEgc+qHCB03izeU/o0wd1W+nxhMjimTDL6epb98nmsT3d1A5QzmceEWZGmPL6Z0/tFL52tQt/lEm8eGa75C363hVa1II+jQtih+2P7ZRk6iFJvQFSuTNh0m7binfxeBqfwDV02dVTGIgapfOjoUG+6/xOI0iGVJFmzOXM38jdeqecA7SHcVI/9dolT6VYs4CMbZ7I0w5bNDPN+QJmmfKg6W3feH23wyUav8XfKIvukicHV8DWfqukCyioUlMuBxJNYnBrw6jWOoyOOCguy6IzcPaolrnyQj1eYHsdqmw7JI+dBvwd76MDNJ1tPbG2082iWTadg6sgOIDNyEk+n6LxPV/+6DK2G2Sjddg3ZgOKFLtZ2WatL9+99Eyd278dZHuKZ1JXHRZN9SNoUmM8rqNL7LmxPQLMaGwgS9PokDagtjwLEj+Lj6T6PfmCkqXb4AnXiHKNOkcX18l3UNV8S5A2TkjwbUcxqpgk8gytRILm0Tbhk1iyiJ5TGIoujQogj7LY4yA89HfkdEuiSZRqlZ6XfwTWbO1xH1vXcgnpeaf37YsGo7dBI97e5Ate3nc9ImpQLre2IrsmUviGvU5/ESTiCgfjG1YDN2X3TYYZiEcBxb9gsHbHssGYMOPLVChza+SrVDQeKFD9QIYuu5utEm86Uqhr7FNYuir3SiaszIOv4oZhNz/8Q4UzlgOB14F2qhJ1OH66AQ6VyyHCnUaRYcqN2pQHVkylsbktQfgL/ft02LtiJbIU6w6OkrTO3ZoieI1uqBjiULoM/mQvJ5w/1eokzEtytZpKq2jI1q17IAx35RXzJkW9/f9g1xZiqFlB902Gtcqg+pdpiMwSouoEBf0qVgIVeo3k6d1aNcMue0K4/gTMkKGJjHhciTVJEIrXUP/DEamXOXQgbbduglylG2Ew4/eS9Mi8fzQTGTPXwLN2rZHp/ZtUKFoIXSffkQe9uKTTaJEhGSmuxTLFb3vbZvVQ6YM9XDFQXddBbnYo9fnhVH5i5boJE2vV7koanw/R+m3qUH/2qVRpvaXmPzP6VgmUSoJ7uyfgzTpCqH5Vx3RuWMblC9QAD2mbJeveSI+k6iNDMS6wV+iRIU6aN9JOmcd2qJCiaIYsf3hB1qePx6u5TBWBZtElqmVWNgkMoztkDwmEdj/e19kzlcOY377HVMnjsRXvXqgaLqkmkQJrR8m9vwcpWt3xKSpUzF+aC9kKPEFzr/2keqkgdg0rjPSlG6CXydNwaSxw1ClZCl8P22/svAnmkSJtzf3oEr2nOgzdLycnGf4d1+hYNG2uKckrgl5exWtqpRBk26Dpem/Y2CHuqjYcBTeBkUh0s8BpaTnafeffsXRa29imUQyIqsm9ES+ovWjj1H13HnRb/Zeebotm0QZyRA8vXk2OunR/nO34OEX04Ikow3B1V3r5On/Hr4Bf8kkvbm0C//uPi+3SkkzINzbCSsWzcHUBWvx0t0PjhfWYO7p58p0Dd6/tscsZRu7T9xBkMFFpg32xJmtK+Vpf89dDwcvvdWPxLnd/2LzPV2m2YTK4fv8NKbNu4DQ6FVrVOUQIBnF13cuyuucOnMrXr+PeVlAeDo+wtJ/pmPq9IW49TKmVREaP+z++x/c9ojpJ6uRrrPZfy6Fh+JID65fikNXDK55hGP90tm4Ihs5hXAfnFf2ff7i/XAzGJuSiAjxwpV9i6OPW6DBcfN3eYjFM6Zi7Y7riAz1xl8z/sCb6CQzlC31Af6Uvps6dR4uPZbMnzKF+FDZzjrokhlpNeF4eesYptNxmbEYt1+5yN8bG67lMFYFm0SWqZVY2CQyjO1gCpN4Y+Ns9B++Q/n0IcJwbdd8NG3aHKNWHENwqANGtvsWN9zCoQ31Qf92rXH4ga5f05n1f6DbsMOI+lCNWhOAC1vnSetqitY95uClb0zvMOqH9vjcXnzVqhmath2Os48clAlEKCYO6Yp1d3XbkYlyii6HVBDs698O8w/HJIfRRgTFKhsR5vsSc3q0lrc/YtJauKhC30J93mHz/F+l6c0wefUheAXpp0fh7e3d6NC8KWZvvQWf56fQovt3BiGmUXh2Ybu83qZN++LoHafoCrWoHBFBLmjXujmuv9O1TJoDk5lEhklGuJbDWBVsElmmVmJhk8gwtoMpTCKTcmCTyNgiXMthrAo2iSxTK7GwSWQY24FNIvMpsElkbBGu5TBWhaWZRCblwiaRYWwHNonMp8AmkbFFuJbDMAzzEbBJZBjbgU0i8ymwSWRsEa7lMAzDfARsEhnGdmCTyDAMExuu5TAMw3wEbBIZxnZgk8gwDBMbruUwDMN8BPb29sp/DMMwDMMwtgWbRIZhkhkNHh9bjmZN6iJtKju5ha5EjcYY/uc+aUri6Vm7NMauuq18snQC8WXl3Jh7xVX6PxKHf6uLQr8dTtL+Moy5eHRqNdo0rCPfm6Qy1epjzF/bEfTBEbBVaAMwt5gdft52X/nCsgn2uC8Pxn5JHlQ7DNO+KYcGqx5+eMDvFI0G25dNRb9+/QQaC3u/2IOPiwj1finP7+xPA59HYPvCcZh72TSDgyc3kX4uiNTorqSXx9dj3NRN8v8MY4mwSWSEhAZ6w/7SEaxfvx7rD5zHOy9/ZYoFoA3FnZ2bcM8tRPkiYcICAhGu/MKHud3Dhp13EMq/+BaB7+ODKJutLFaesld+PLVwun0IDcoXx4D1jz48cLQK6zWJKRtNVDjevLyDbfSsWb8HD5xcLagyroXP83PYfulRosukjQyFf5hi9zW+OLx5L94FJlxRtlQi3c6jVpnSmLrnevRLjLcPTqNDuRL4btZ/yjcJYNUmkYmfKIz9pjYKf95eZRATbxIDnK/ILx/uewRLn0IxtlMptNn4RDfRhvB5dQZVs7SDn/J8YJPIWDpsEhkVGjy9tAW1c2ZFmQpV5H4a1SqVQ5aMZTD3kL1lVN40XvitUHrMOO+mfJEAAU9Qs9bPcFZ+q/xurUKtVovhy802FsGp6f1QqcFs5VMMz4/ORsas3+B9KJ0oDd69foxX3qG6iYQ2HI4PHsJbnq43ibfg7+EMe/t7cHTzjn5jS2i1Gvh7u+KBvb00/TE8/AKVKTqiIkLh6eIoh5Ha2z+Au29w9PWuiQzEo3sOCI8Iw9vXz2B//yG8AsKk6VoE+bjhvrTMI0d3qbqkQxsegAePXyJCEwHXV4+k9d2X1xeDoUnUws/1OR65+snbC5LK//SFByJDA/DkwX1p2afStlQvRKT1uju+lNfr4hWAiAA32L94G71960CLQJfHGNyiOAqXKItq0rOmerUqKJInN5qPWgX/cEvYGw0eruqBPP3nRhuk+AnG3G97Ysdz5XxFvUbv+p1x2SVM99kKubuiH6r0/F2+Ng15eXQOclXvgEj5kwYvnz6AawC1BCloQ/H8/hMEhEtHLtok3kOA1zv5Hnv6zivW9arVRMLL7Y08zd7+GbwCDe51CTLf0ffnvfvw8A6E/vYO8/fA/fvvpHs4RCqHdL89ega/4HDdPf/eGfekZV65eMecQ7lsLxEUHg63N8/ldbr5BEXvY2yTqIGb4xM89wqRp/s4PoPjOz+EBXorz5IX8Asx2G9CEwbnZ0+kaY/g6ReMUG9pvxzeJ/IasjZ0JrHtguvK56STUkyi6+2tyGBgEhnG0mGTyMQi+MlmFLYrh11PfJRvdHhc34jM6SrghLvqxzA5SKpJ9DyJonn6R5tExrK4u2Ec0uQvizvxXluCikOUM77JlR8bn+jMF5nETt98Gx0SR+o9/7RS8dPC6dxcpP0sZpqdXV78cVFptdJ4o1+jUgbTSAWx7rqupS/U+zwKpe2McV2/MJheAU/v7UGpdPrP6TFw/xt5fVHOZ5Gr1BfYNqcnPouevxw2PfCW1xdfuOmVuT+idPkB+CJ6OUmF6+Oud4S8JLFrSteYaZKmTekHuy9Gwk+ZbhWEvUH/SrnQffbl6Mo+ERnghK7Z06LnyhvKuUtOkmoSvTGwTpUYk2gDvD02GXYZq+Hgi9i/CbEJkq/n3886K58lIp+gTuZyOOssGWTFJPb7eQTyR1+3qdFk4mlE6G5AnJr3Q6xrOvb9Eo6fqpdQTbfDqstO8tSXR+ciY+bBGFw+d/S0ApV7wv3WMmRWQtjt7HLi70vu8vy6sjXGX5P7R89vZ5cNay+9kSfHF266o2dttO48FJWil5NUqRcclNZirSYCs7uXj5mWvRiWzOgOu64rYTtXhSGJMImRD1E5YyXdtaAQ+XAVMuf6Rv5dTrJJDHmLWT0bS8ukQ4dpWxAWGXN3akN9sX3Fb7pnfaWuuPjUIFpDLkdr3HN6jb+GtpKWT4Mhc7bBK0Q5dwHOKCaV4z8nF+z8o5dcpqLdZ8It1s2vhcutfcgln99iWHz8gfJ9DF4Od9C/aWHYpc+GJbuuyVFLgU8PyuvT6+hLX92zvvZwZSkJjR8OzB2lzNMSp597KRN01yRtz8n1ZfS+d5+500ZfPDCWAptExgANfq1bEn3/PBa3cqYNw56F/8PiffbRFTptiBcOrpmFpk2bounwf/HyfUzLTLi/PTo0nwEX19eY/9uP0jwdsObkTUTIsYMhWPDzt1h63UM3s4Lj+Q3oPWKv8kkypq/v44/h3aRl2+HffRcRHKE8DlUm8eHOueg/eoX8v56dc3/F6DmXEBnqhC4taiJ92gKo37SH/CPlb78Jzbuvhp/+6aqNwPMrp9G9QytpW/1w5O5rZYJElBNGthuOxx6e2L10Ar6U9nX6ikPwUVqvZDQ+2PEn7WNTdOozEtcfWVK4nOWjCfPB+nFSJeqzdKhQsQoaNm6DxbvOwzPW29bEmcRCDfviqXuA3ILg/voMStD0u1LFMNwD/bJlw99nHRCllc6OVJF7/fAmLj50l6/n6wsHoHyL0XALoEqMFlEhvvi1dQ00779MXrfOJNph9JpzCI3UIsLPCbWlH/L8zX7Ga29p+5pI3N4yAXZp+sJdujZkkyhNL91nMXxDo6RLLBj7Zw9E9srtlYpi/CbRLktR7Hn6DlFS4cIDXPBD87JoNeOCNFWL0EebJAPaBMceS/sl7WeA2zO0K5TL6kzijTVjULRO3+gw8Bi0eHd7PaZO3wgf/TUg3aNPLhxDh7YtpPtsYOx7VLo2Jg7ph1PP3XB+91L5Phw8awPc/XTn8vHh2Wj6yzGEGWwn3N8Z7doMhkuArh0sPPA9Dq2eLN/fA6evwhsvfXU+tkkM9niEZq3bwS0oxrB7PDiM1u3GS8+ECEwb0wsFsmZGpbqN8fWO59BKz48hbb/DDbeYFyD+zo8xdeT3Ujlb4vctZxEepb/Ow7Fz1o9YcsMD9y/vQdcWTfHNiGl44mIY8hiJ+yfWyvvYtHkrbD9xAyGJjcf+WKKCse2PPtK1nREVqlRFoyZNsWjHcbj6xxyDxJpEu7Lf4PZbX+lzFNwfnUVWqZK+6770OxD0FC0zlcSWh17SvSvtT1QoHty++v/2zgMsiuPv4yDFAEoRUASpApEiICIgSrEAlthijyVGowbRWDBqyD8axYgNSexYYu8YJWIXFBW7KBYEUYpioR8o7bjb7zs7t+fdgf4him/i++7neXie25u9ZXZ3Zvb32Zmdxe0MVkxJeYgNga5nEB4VSc6LiLQZS3pYofV3a+l5YSVRSaUxNl16SEcPlBHpsFVRge2QCOSXkXyKK7F9xkDYdVpIfy/JmxJc+oYhnz2XTBUS1wZB22QAMkhBqUsSlVp2QlxmHlliUF74CB42zfFj9H26/PLsQqjbD8bNp6Q2kv18lnwKDmzQz0tig0iiOP882htoYnDoGpyNP4FFo3zQ3GY8XpaJICy4iy8sjOH1zVyciYtH9OalcDRvjm9XX5D8mOZDBxbu3RG1/zjiTh+Ct64WvEM203MrlUSLVo74JWo/zp7+C5MC7aFj9j0EbI842dfoxd9AV98VO47Fkf8fg1FuLug/eQvdPMsdch3Qb/Y55m+KRtypGHzRXB0BP+5ERVk+oqP+A3UNd8SeiidiWq0oiRWP8KVLS7Qf9iNOnI3HsR0r0Fy3BWZGnafJEklsjFZm3bB63xGcjt2DQBttmI09xD86w/PR4CWRR458WDdvgd3J+dzyu6nKvYkBdpboOHAiIiNX4KcpI2BgaoeN5yTBGxtU66lYwbFjIELDlmHpwtmwUFbFpH3JpDFmED1vOJz6r6HrSqhE+FddEHw4ky5d3fQDWpi3waQ5C7BiWThG+Nvjc5/peMIGdTUkkW1oHfxm0c9Slk8IgN+4QxAJCxG1OAi6Wu6Yt2Ij0oqqUXguDCrGoSigbX4JNk4OhJJVV8xbvAzLFsxBOxsr9P1+q2RDJJjwbmoINxIYTZu7hOzrYnga6aH7rD/oRUVUUYB+ri3R89vZJC0Si+fPgKV6CxzJ4J9l+VsQactKvYU1K5ciePxI2OirQVPHCrMPSJ9JrJ8kBq+9SD9LCe/iiBHzYsh5LMKPLoaw9RuGjdHxyH75Lp1iUJydguQ7VxDkYwPv4RH0W4kkWuFyDhfmMWU06P1moywwyk3eTS7iPqSMiiSSqO2My8USCWFhSCDcS9sEB7PZQOm/S6KJ03BaviQwWDO1F9oP3ks+inBkohe6hWyVSweu/zbsE5NEMUIHeaDr7OPc8n+hWkDrqNrn/liwdDmWzv+B1tGhs/dwK5ThCzdztHX1xfBpc2l71K+9MSx7z0cJOUgFqbHkvDghrVAaoDJIPfYrtAPXopwIRfHD0+hobYGeo6diBanDM7/tD3NjVxxIZiVAURLZYFb5sybIpAIq4cmFKDqELLesGkej18LD1AijQ5di041cMJwoHc9kh06K8SQuAgZNrTE2hORzeThG9fCASbuhRH7Y9EosH+OENl5+6DN+FiLIfozv6w5dm34o4E72/jlfwaZdPywl+YxcsQy92xpi4LIjCmXh4yDC89SbWLF8KSaMHwsTAy2oGFhg7jpJAFtfSRxD6subvBIxOzzGCh5hR8FUZmOIlQHc+kzEwfM3kFtjqKk8ghePcfvmFUzsbffmvLCSqE7a+HyuRwjiXAQ1b4J5F6Q9kcCNDSGygJzmzQr7Hsg9a8/ko7+zGZZcfFmnJLqPXCx3zBmM9rHDhOWJ5OMrrPNrjtHb5B7NIPt5ZCoRy//jkijfSyb500HkFS6WaChJZIQ4EeyEVkOX4zV3c6RSkE7OlSq2Xc3B2YhgmLUfhzLZyUHy/jBoWPogjy0oNB/qWHIqQ5JIzlLeyZ+gYjoSz0m6VBLly6kg6yzJW2PczyuH8MVlIp2OOJb9mkslsVDRHfRo3Q4JBWxbL0R/J1OMCD8hSSRbeZ28Ds3U3HEtt6rWcFOZJIpx87fBMO48WeHmaPaxMGg364EH5JoikUQlbLzylEsFsuIiyXeBn/Qzzzz/bnhJ5JEhuotWmm64QRqzujgQHIDWgTPxSq4xjvlpEAx9JtAZ7ySSqIbdSdIhoWLc3zICSs4L6bOA+Un7oGPeEcXc76vzEuHp+iXyafsogIuJAX7elUTTKOJCBLQ2xJSoS+Rz/SWRUmO4qbwk5pF8aOvZ4zqRRykvb+6DQWMjXCgmP6CSqIIJf8hed5B3NhyNzAYjh/y+LO8aNNX0cTHzXzSxzyeFEBeOHsC1p7KLLgtTWYJDa3+AmqYdHtLgvn6SOP/EI/pZChvQ9Q3ZQT+XPUvCmCG94WikSy+2dn0mYEfiY4gZBtWl2Vgc1J9+r2ndAV26BMK3TasakuiKuwVc7wknifITcdSSRKsuYDXjDSS/Ywz0seEuu691DDeVH4JE2BDSVyKJRKZ/crDA5N+4O+Mc+fELPjFJrMCorpYYd0jxfL2NF5e30DqaJCfcbB3V17TAZTopBiuJLch5jpYkEsQvT8KikTPic6ogLs+Fh7oSVsZzvY/iEiwMaIt9D9k6K0bEN35wHBBGj70EETbM6ANb7xkkxPs7ksjmpcZwUzlJZPPhraWE4C2X3gSg1WUvMMBaB6NWniXfsZJoj+bt50PIdm8TmJJ76KTaAjsfsturRg93C4xfT9rA/zUYnI7ZjyvpsmFvFOY1Tq2cBf2W7ZFFx4vWTxIjTktuAkoQ4eZyHxhN302P7dNbxzCkb3dYa6rQethl5AycuMsNFRQWYMUPI6BPvtc1ckTXbv74wtNcQRIVnvWikqiDVbdlo1tqS6IfbihMqlKG4d4mmHY8s05JDJigOHJlnJ+DRBIrnmOokjrWX+OGtVIYpO4cw/ckNoAkMlVFGEjWC4oix7oWYoSN8UW3EKmgSRDn3YC1SmucKWKv55J8JD6XxTjy+ZBK4m62d5tDKmds3l5cXAtVE0esp5NsSf82or+7OUYezATDZMHeQJ1r12vzTklkqrHUyQhfLzpGv3+D6DE6Gpgh+kGpQj6kyF9zeHg+Brwk8siRA8tm9kjIljVCb4dB/3aW+G6l4kVBlBlL5MoLt1+LOUl0R7pcYKfQgyfMR0jnNohIKqEX3nMrxqFXkCSYR8VlGKl64la+/HAm4OBoT/gGrSOtfsNJ4pU102DtNl2SIEWch9mWTTD9NAnxqSRacT0BEkRpe9FUty8yyfZE5fnwtTYiDbUmvp69BEfOJyO/5LVkyBRPPRDih4HO6L5Y2iMhQyTIQAt1LcRls+pTO3Bgqh6jn46iJM5WmD2RQaR/W4yce4RblpGTdh2hIzygomGMrJIqbJvsD4ce0+lQUSlrB/t9mCQaeuJhtawcMGUP0EurFQ7RQOk9JZERYd8gJ/QL3UvrjZQH2yd+YpIowsQ+Thi8+Ta3/G4Swse9tY5OMddB6Fm2p0IiiW8TFEm9FSFlwzA4Bm0GezoEaSdhYt4VpXRinFcY2tEEwbHy8kIk9MpmqLb2Qgk5Iw0lia9f3CTlQw2Xn8pPmCTGvaj+0By0nKiIRBIVXrUgfi53YwHYMaUvPlNWgkXPYKzeF4eM5/mo/sjDTf/j54ghoYcVyhsLU5WNIXqWOJrHtvG1JZEpvwVnDUVJDKVDMjkYIWKD7eHza+3HGx5cT8BXXW2h17Y3qkiZvzgvALp+U5BRzAX3JKg+NsXtAyXRBXE5svMIpgD9nc0ReanunsR3SqK4BMsdtPD9gRTZPpG8JizsxktiQ0hiZSF6vFMSRZjzlTsCwhVvoDGCu/BQ5srpB0pizrlINNLQphP61fwbfTAdjPgR2jRT+/uSKBZijlVzfBdxln7/BiYHvmZm2H1XwEsizz8CL4k8cpSjjakuVl6UDWeQp/DJPZy+mkUuftXo6NASIX8+4FI4iq7ASak9LheJ6pZEspUbW0OgajwXr0SVGNzZG9EpXG/ci0PQUxqIdCKb8lz4tR/cxi4nDWrDSeKJ+WPh0JFsU4FSrOhthlGHyHGoQxKJDaK6sgwJsXvQxaEZabCVodHUCBuSFPqQeN4Jg+ubZkDd2AmPapzv1CPhUNfyxFP67FMVQoc5wX7SX5JEQk7CGjRSUpTEz7+cS0IMDnEOnI21EHE2C9X5KTBrYYGLubIwLe9eDJQba+F+YTkN8r5eIDedPwnOAz7X+zBJVNLAiC2ygP/e/p9haNcTJfQGwntKItlayaUIfGY/EjlvhiWJ8a19q09MEhmsHN0dnUfs5JYVEVWV4OTxC3hNrO7PkKFvraNh/maYGJtDPtclieS/Ce/BVr8tEnMqcHLZeHjRyXLY85CHL9qYyYbFcdBJJkzdSWrDSaIgK56UDzOk5MuJCTkOL2OnQck/jGhW3ZIoFgmRlXwRP4/tQgNGtcYa6PXDTvLLj0dmzByoNHXHuWeKipN2ZAk+s/JCMT2OFejWriW+WXdNkkj2IHXXZCgrKUqimuePKJTMVAOhIBMtVZSxNvEJKh8dh7FNV6SWydqAhzELoGbdCa+YSqxyaIJhK+K4FHJYy17CzVjnAyVRGV/KvcIjP2EZtKz64BHJw3tLIlkj6+AUqHWaDwF3g0j06gl8yX7ykigvieQ4RQdD6W8PN61AlK8u3OfI3SQTV2BRWxOMXZOAAzOGwDVAcabswlt7oGzggofszZQPlMTytBhomXTGE1kxrUE5Otga4PvtspFHJDBCoKsZlsRn/ZeeRDGOT3FD228jaXmWIn7yF0zYmCpXyEsizz8CL4k8Cmwe6gK3r5eRkLwm5Vg03Bm2o3fSiT9+9LTDoJmySWZY8i/+DhWTXsgiF8e6JZFcGLIukgauCZKSY2DvRwJcbogVmMcw1zZBbJpiyDvPxx4DZ+0nLWddkijEzEHt6iWJqYcXwdC+j0LDzJSmwV9dG6vZwKwuSVRAjNK8HOz8Tz8o6UxBbu0ZOXjeglhYisNLxqORuhHcvLzppByebm1h2tIeB5NJmM4dxnsxEWikpgX3zr7w9fZEr1FB8NVWlMSew4fAytGNbMMHdub6GPbLn5KJPRghLm3+Hs1a2cCrsw9J74w2JqboO/coHdr3MPoXaGsbwdObbNvHGzbGXgge2QUWAcG0bLyXJKq1RP9+neDWify/Th2gRwKVDeekz8K8ryQSSKC04ltftLB2osfK3bk1vg/q+8lNXJN9egU0TDsjQ34SKAqDx8fmQb1pLzwuEeLOrtC31lE/tWbYcJ+Vp7olka2b41ytMHPjSUz27ozTb4bUCzG2Rxv0Xqr4LOu9fT9Dz6kXSa1bEu8emFcvSawqSqdB3oG7chN2EQE6NMYOdlO3klC7bkmUwUBYVoS0c+thomqKg6kf8RloUTmOrpqKxpoGaOfRmZa5jm7O0LNyxY4EaXkG4paOh3oTQ1qHfDp5YMjsWbD9rMYziZPGwMW+PdmGNxwtTOE/ax/K2JkpxeXYNrMfDK0c4MNOyuPbCeZ6pgjZzIoHg6Iba9BMpzk6sHXJuxMc7VwQNqM/lNpPRRE5WO8nic3g4+cLV0+2zemI5o1NsfLEfXrs318S2fasGJP9zGDJtUNOLm4Indr9/7ckMiXwtTdC7+DN5GgyKHl8Ae1Ntf++JLK/TWLLgjEiT9wjy9VIObUOTVS0EZ9eBEHqUVg21sPMbfF0AqP8x1cxzL0VOoyPoufuQyUR4ldYMKgDXPx/xtNytqxV49LeBTBs1R5XitlrA4ODIT2hZ9EL5x7lQ1xdgYO/DkBj6+HIKhdRSVTVsEEW96oYWVvPoOrZadgZGOK71SfoMSp/mgR/l1boMmkzndyLl0SefwJeEnkUEBYmI8C2DYbOikT6S8l7o17nZmD5zKEwsgzAzXxJ45Z57FcYGjpg23m2N5E0xo+uY5CzCXrM2U5/Ux9JZIRFmGWrCe/Odpi8UX6IiAgzu9vCvt9sPHxZQhva67ER0Ndsjb3sTJU1JDHz1G/QMHTCyQf55H+LcftYJMyaqihKopofrnF5l8+HsOAe/Frp44vwQyiurIaw5AVWzhoEbZNAGnzUJYmvci5AU80Cu84/JJcLsr3yAqyb6AnLAZvwWmo3PHXDiPAi/QHWr1lFJwDatv8kntHJPORhJ8+4StN3nbyK0nIBjq6LQgr3aojYXX/gSmYBMm7GkXVW4eztdFTJDcVjxCJkPkrCpt8jSfp6JD6Q7zEXI+t2PN32qo2n8KykEhW597Fq00GUkk1UVzzFht93oYAGBgQinTc2RSIhVdZjXJafSn6/n74Xjkqilhtulxfj9EZ2n3Yh9XkxtyaLEAe2r8ONZ2zwL8bjxD3YkPiY1p1nN87gj13xdC0pdxJisCs2jVsiVL/GtWPRZLtrcOHeEzzYPREWo8KpyHwyiEqwPigA1n6jcf5WJn0VAlMpQNyeSFg3bYKwIyl0f6rykmgdHbj8L5QKRRAKntE6qm89gHumuT6SCNxaPw62Dm5w7zKNHH0ZVzaGoGkLd5xIyqC9i0/vxSPQthWG/XKUpCpKorD4EVorq2L6HwmoJGWrKOMKerVtUUMSzTD3JJcXuXwwRLb+GGIHi46TkPy0iOx/Ba7FrIOOahPsuMSuX5cklmOkmw3GLYhGMYka2Rl8b8cugq6x/5t2+eMhRsGTFOxhJ8whf6sPnMSLwpriWo30aydJ+u/4MzEFVcIC7F69VRLAMlW0vtzMFuDJ3QSyzkrEXkuT7SeBqS5HSlICfqf/YxNuZSr27uakXMQqkrZp+1/Izi8DU5ZF6vJe5JI6WZx5E6vWHKLnhMKUIS5qLW7lyc70yzsJsnrFnZcjD3KRcHgz+X/rcDe76E1+hGV5WLPqdzyjwbwIl49uxd477PUFSIvdhT/PKL724NSB7Thz4xm3RBAKcGbXFrofSY+fI3FpNziGnfq06me9qYckElLitqJ3OxsiNRrwHzUNd85E/u3hphIYXN6+DD1dJK8sMug0GFvi07kJzkhbevEgRvTxQiOSpt7aHdMXbebetUv4UEkkVBZnI3zGWGiS79jv2wWOwu7EdJpGqRZgR8QcuLfWoTN29xwRhPPpkrJcVZyBcT3b0dciRV1+WuuG4MPE/RgV2IFuV0nTDZN/2oyX3EzKvCTy/BPwkshTC0HWZYzp0gmtW2hKGitVQ3j4fY2ER/LvyapGbMRMOFq2pOuomdih6/hwvORml6uPJLINeuGFhdBQNsd5udnCWMQlaQge5IcWTVRIQ6sGO1cPLD10W3IRryGJTPkLLBjTFbpsXpX04TXmV8wa2VUmiSTQGuphRtK0MO/si1r5eJ4cAz8PF6izQ4JUmsHNewiOPOT6ZOqQRPbVB+fWBMOldXN6HJQ1msLLfyDSBR87aOP5NyOVxLuy4t9AiHFl2QAYd/4OGUVssMCgovg5Zgfa4qvFtZ+9/LfDzg68enp/uDuace+TVIeNqw/CDyTRngApbB316dAWquw771T0aR09+Vg6WVT9JFFckgwPQw2M23iT+4aDeY09YRPhYMEOF1eCoYU9hk1fyU3KpSiJ7M0BdublNkZaZF0VWLsOINKyWE4Sq7EhdCBU2X0ZvA9VNfMhLsSkYT1hqKtBfq8KK2cv/LDpKveuwLp7EguSD8O/g4Nk+0rKsHX2xNoT7wqmed7JW8pHw1CJw5McYTMogpQH9hrAQJBzB1/Z6WLe8bonaeLh4eH5N8FLIg8PD08D8/EkkVCehX6e1tBQb0SlppGWHkx6hiK31rBNHh6et/LRJBGoKrgFB0tjqLE3HUn9bKytj8+/XocKuVENPDw8PJ8CvCTy8PDwNDCMWAhBcSk3BKrhEVcL8apUgOLiYgheV9CX7vPw8NQTRoTS4pI3rxppUBgGImEVSgTFtH6Wlle+ea6ah4eH51OCl0QeHh4eHh4eHh4eHh6eN/CSyMPDw8PDw8PDw8PDw8MB/A+NR4ED3+2tmQAAAABJRU5ErkJggg==)\n",
        "http://yann.lecun.com/exdb/lenet/"
      ]
    },
    {
      "cell_type": "markdown",
      "metadata": {
        "id": "cg72nIkCWla4"
      },
      "source": [
        "Defiamos algumas funções utilitárias:\n",
        " - criação de uma camada de convolução inicializada como [mindspore.common.initializer.TruncatedNormal](https://www.mindspore.cn/api/en/master/api/python/mindspore/mindspore.common.initializer.html#mindspore.common.initializer.TruncatedNormal), uma distribuição normal truncada.\n",
        " - criação de uma camada densa cujos pesos e biases dos neurônios também são inicializados via **TruncatedNormal**;"
      ]
    },
    {
      "cell_type": "code",
      "metadata": {
        "id": "dN0zXnfZWomz"
      },
      "source": [
        "def conv(in_channels, out_channels, kernel_size, stride=1, padding=0):\n",
        "    \"\"\"Convolução com pesos inicializados por TruncatedNormal().\"\"\"\n",
        "    weight = weight_variable()\n",
        "    return nn.Conv2d(in_channels, out_channels,\n",
        "                     kernel_size=kernel_size, stride=stride, padding=padding,\n",
        "                     weight_init=weight, has_bias=False, pad_mode=\"valid\")\n",
        "\n",
        "\n",
        "def fc_with_initialize(input_channels, out_channels):\n",
        "    \"\"\"Convolução com pesos inicializados por TruncatedNormal()\"\"\"\n",
        "    weight = weight_variable()\n",
        "    bias = weight_variable()\n",
        "    return nn.Dense(input_channels, out_channels, weight, bias)\n",
        "\n",
        "\n",
        "def weight_variable():\n",
        "    \"\"\"Cria um inicializador de pesos do tipo \"\"\"\n",
        "    return TruncatedNormal(0.02)"
      ],
      "execution_count": null,
      "outputs": []
    },
    {
      "cell_type": "markdown",
      "metadata": {
        "id": "1zwYx3UfYIKV"
      },
      "source": [
        "Agora a instanciação da camada LeNet como especialização do tipo [mindspore.nn.Cell](https://www.mindspore.cn/api/en/master/api/python/mindspore/mindspore.nn.html#mindspore.nn.Cell), o tipo básico usado para todas as redes neurais no MindSpore. Note que as camadas são muito semelhantes àquelas usadas no Lab Guide anterior, que versava sobre TensorFlow.\n",
        "\n",
        "Veja que o construtor (método *__init__()*) define as camadas, quanto o método *construct()* conecta esses elementos, formando o grafo que representa a rede neural."
      ]
    },
    {
      "cell_type": "code",
      "metadata": {
        "id": "euj3ik61Bh98"
      },
      "source": [
        "class LeNet5(nn.Cell):\n",
        "    \"\"\"cria uma rede LeNet5, tal como pode ser visto no\n",
        "       site: http://yann.lecun.com/exdb/lenet/\n",
        "    \"\"\"\n",
        "    # definição dos operadores necessários à rede\n",
        "    def __init__(self, num_class=10, num_channel=1):\n",
        "        super(LeNet5, self).__init__()\n",
        "\n",
        "        self.conv1 = conv(1, 6, 5)\n",
        "        self.conv2 = conv(6, 16, 5)\n",
        "        self.fc1 = fc_with_initialize(16 * 5 * 5, 120)\n",
        "        self.fc2 = fc_with_initialize(120, 84)\n",
        "        self.fc3 = fc_with_initialize(84, 10)\n",
        "        self.relu = nn.ReLU()\n",
        "        self.max_pool2d = nn.MaxPool2d(kernel_size=2, stride=2)\n",
        "        self.flatten = nn.Flatten()\n",
        "\n",
        "    # conecta os operadores, construindo a rede\n",
        "    def construct(self, x):\n",
        "        x = self.conv1(x)\n",
        "        x = self.relu(x)\n",
        "        x = self.max_pool2d(x)\n",
        "        x = self.conv2(x)\n",
        "        x = self.relu(x)\n",
        "        x = self.max_pool2d(x)\n",
        "        x = self.flatten(x)\n",
        "        x = self.fc1(x)\n",
        "        x = self.relu(x)\n",
        "        x = self.fc2(x)\n",
        "        x = self.relu(x)\n",
        "        x = self.fc3(x)\n",
        "        return x"
      ],
      "execution_count": null,
      "outputs": []
    },
    {
      "cell_type": "markdown",
      "metadata": {
        "id": "oR3GlOWbCudo"
      },
      "source": [
        "### **4.4 Configurando um Modelo**\n",
        "Para treinar uma rede neural, é preciso utilizar um modelo, que é instância da classe [mindspore.Model](https://www.mindspore.cn/api/en/master/api/python/mindspore/mindspore.html#mindspore.Model), a fim de configurar o otimizador, a política de salvamento de checkpoints, a função de perda e as métricas de desempenho monitoradas.\n",
        "\n",
        "Note-se que a função de perda escolhida é [mindspore.nn.SoftmaxCrossEntropyWithLogits](https://www.mindspore.cn/api/en/master/api/python/mindspore/mindspore.nn.html#mindspore.nn.SoftmaxCrossEntropyWithLogits), pois as classes são mutuamente exclusivas para cada imagem.\n",
        "\n",
        "**NOTA:** esse trecho de código deve ser desconsiderado na execução do exemplo compelto"
      ]
    },
    {
      "cell_type": "code",
      "metadata": {
        "id": "UHbybNL1c0dS"
      },
      "source": [
        "# cria a rede\n",
        "network = LeNet5()\n",
        "\n",
        "# 1) otimizador\n",
        "net_opt = nn.Momentum(network.trainable_params(), lr, momentum)\n",
        "# 2) política de geração de checkpoints e callback\n",
        "config_ck = CheckpointConfig(save_checkpoint_steps=1875, keep_checkpoint_max=10)\n",
        "ckpoint_cb = ModelCheckpoint(prefix=\"checkpoint_lenet\", config=config_ck)\n",
        "# 3) função de perda: softmax crossentropy com logits\n",
        "net_loss = SoftmaxCrossEntropyWithLogits(is_grad=False, sparse=True, reduction='mean')\n",
        "\n",
        "# 4) Instancia um modelo \"treinável\"\n",
        "model = Model(network, net_loss, net_opt, metrics={\"Accuracy\": Accuracy()})"
      ],
      "execution_count": null,
      "outputs": []
    },
    {
      "cell_type": "markdown",
      "metadata": {
        "id": "mwwUrQdjczwK"
      },
      "source": [
        "### **4.5 Treinando o Modelo**\n",
        "Seguindo a ideia de modularização, definamos uma função:\n",
        " - *args*, argumento geral, não usado ainda;\n",
        " - *model*, modelo já criado e configurado;\n",
        " - *epoch_size*, quantidade de épocas no treinamento;\n",
        " - *mnist_path*, caminho para o diretório do dataset;\n",
        " - *repeat_size*, número de réplicas de cada amostra no dataset;\n",
        " - *ckpoint_cb*, função de callback para tratar eventos de checkpoint, i.e., gerar cópias de segurança do modelo quando necessário;\n",
        " - *sink_mode*, indica onde o dataset será armazenado para processamento.\n",
        "\n",
        "O dataset é configurado para usar batches com 32 amostras cada, extraídas do conjunto de treinamento. Além disso, um callback [LossMonitor](https://www.mindspore.cn/api/en/master/api/python/mindspore/mindspore.train.html?highlight=lossmonitor#mindspore.train.callback.LossMonitor) para exibir o progresso do treinamento a cada passo/batch"
      ]
    },
    {
      "cell_type": "code",
      "metadata": {
        "id": "wOY68Y4yDgbm"
      },
      "source": [
        "def train_net(args, model, epoch_size, mnist_path, repeat_size, ckpoint_cb, sink_mode):\n",
        "    \"\"\"Define como treinar um modelo recebido como argumento \"\"\"\n",
        "    print(\"============== Iniciando o Treinamento ==============\")\n",
        "    # configuração do dataset\n",
        "    ds_train = create_dataset(os.path.join(mnist_path, \"train\"), 32, repeat_size)\n",
        "    # dispara o treinamento, que gerará um checkpoint \"checkpoint_lenet_1-1_1875.ckpt\"\n",
        "    model.train(epoch_size, ds_train, callbacks=[ckpoint_cb, LossMonitor()], dataset_sink_mode=sink_mode)"
      ],
      "execution_count": null,
      "outputs": []
    },
    {
      "cell_type": "markdown",
      "metadata": {
        "id": "IawuYr4PDuNE"
      },
      "source": [
        "### **4.5 Avaliando o Modelo Treinado**\n",
        "A avaliação é simples, partindo de um checkpoint treinado:\n",
        " - Os pesos são carregados de um arquivo e restaurados como o modelo;\n",
        " - Um dataset deve ser configurado, dessa vez usando os dados de teste;\n",
        " - a avaliação é feita usando o método **eval()** do modelo, o qual retorna um dicionário com os valores das métricas de desempenho usadas. No caso, apenas a acurácia está sendo usada ('Accuracy')."
      ]
    },
    {
      "cell_type": "code",
      "metadata": {
        "id": "QeZJqQatEcLS"
      },
      "source": [
        "def test_net(args, network, model, mnist_path):\n",
        "    \"\"\"Dispara a avaliação de uma rede já treinada.\"\"\"\n",
        "    \n",
        "    print(\"============== Starting Testing ==============\")\n",
        "    # carrega um checkpoint do modelo\n",
        "    param_dict = load_checkpoint(\"checkpoint_lenet-1_1875.ckpt\")\n",
        "    # restaura a rede a partir do checkpoint\n",
        "    load_param_into_net(network, param_dict)\n",
        "    \n",
        "    # carregamento dos dados de avaliação\n",
        "    ds_eval = create_dataset(os.path.join(mnist_path, \"test\"))\n",
        "    \n",
        "    # avaliação do modelo\n",
        "    res = model.eval(ds_eval, dataset_sink_mode=False)\n",
        "    print(f\"============== Accuracy:{ res['Accuracy'] } ==============\")\n"
      ],
      "execution_count": null,
      "outputs": []
    },
    {
      "cell_type": "markdown",
      "metadata": {
        "id": "xMy8ncnvE0f5"
      },
      "source": [
        "### **4.6 Invocando como Aplicação Python**\n",
        "Em primeiro lugar, é configurado o ambiente de execução, usando a API [mindspore.context](https://www.mindspore.cn/api/en/master/api/python/mindspore/mindspore.context.html) para:\n",
        " - Execução preferencial sobre *CPU* (por padrão); e\n",
        " - Utilização do **graph mode**, que faz com que um grafo seja compilado a partir de uma representação intermediária (IR) para execução.\n",
        "\n",
        "Após isso são configurados os parâmetros de otimização do modelo, que passa a ser treinado e depois usado para avaliação sobre o subconjunto de imagens de testes do dataset MNIST."
      ]
    },
    {
      "cell_type": "code",
      "metadata": {
        "id": "uAG6o-C1FDrd"
      },
      "source": [
        "if __name__ == \"__main__\":\n",
        "    # código legado, lida com opções de linha de comando\n",
        "    parser = argparse.ArgumentParser(description='MindSpore LeNet Example')\n",
        "    parser.add_argument('--device_target', type=str,\n",
        "                        default=\"CPU\",\n",
        "                        choices=['Ascend', 'GPU', 'CPU'],\n",
        "                        help='device where the code will be implemented (default: CPU)')\n",
        "    args = parser.parse_args()\n",
        "\n",
        "    # ===============================================\n",
        "    # inicializa o contexto de execução como o graph mode\n",
        "    # ===============================================\n",
        "    context.set_context(mode=context.GRAPH_MODE, device_target=args.device_target)\n",
        "\n",
        "    # download do dataset MNIST\n",
        "    download_dataset()\n",
        "\n",
        "    # ===============================================\n",
        "    # configuração de parâmetros\n",
        "    # ===============================================\n",
        "    dataset_sink_mode = not args.device_target == \"CPU\"\n",
        "    lr = 0.01       # learning rate\n",
        "    momentum = 0.9  # momentum\n",
        "    epoch_size = 1  # usa apenas 1 época\n",
        "    mnist_path = \"./MNIST_Data\"\n",
        "    repeat_size = 1\n",
        "    # ===================================\n",
        "    # criação da rede\n",
        "    network = LeNet5()\n",
        "    \n",
        "    # ===================================\n",
        "    # configuração do modelo\n",
        "    \n",
        "    # a) otimizador\n",
        "    net_opt = nn.Momentum(network.trainable_params(), lr, momentum)\n",
        "    # b) política de geração de checkpoints, usada para configurar um callbak\n",
        "    config_ck = CheckpointConfig(save_checkpoint_steps=1875, keep_checkpoint_max=10)\n",
        "    ckpoint_cb = ModelCheckpoint(prefix=\"checkpoint_lenet\", config=config_ck)\n",
        "    # c) função de perda:\n",
        "    net_loss = SoftmaxCrossEntropyWithLogits(is_grad=False, sparse=True, reduction='mean')\n",
        "    # group layers into an object with training and evaluation features\n",
        "    model = Model(network, net_loss, net_opt, metrics={\"Accuracy\": Accuracy()})\n",
        "\n",
        "    # ===================================\n",
        "    # treinamento\n",
        "    train_net(args, model, epoch_size, mnist_path, repeat_size, ckpoint_cb, dataset_sink_mode)\n",
        "\n",
        "    # ===================================\n",
        "    # avaliação do modelo\n",
        "    test_net(args, network, model, mnist_path)"
      ],
      "execution_count": null,
      "outputs": []
    },
    {
      "cell_type": "markdown",
      "metadata": {
        "id": "HhbH6ZMkFFDR"
      },
      "source": [
        "Executando todos os exemplos em um único arquivo via linha de comando, teremos uma saída semelhante a esta:\n",
        "<pre>\n",
        "******Downloading the MNIST dataset******\n",
        "============== Starting Training ==============\n",
        "epoch: 1 step: 1, loss is 2.3048673\n",
        "epoch: 1 step: 2, loss is 2.302471\n",
        "epoch: 1 step: 3, loss is 2.306556\n",
        "epoch: 1 step: 4, loss is 2.3026621\n",
        " ...\n",
        "epoch: 1 step: 1870, loss is 0.12739936\n",
        "epoch: 1 step: 1871, loss is 0.21252097\n",
        "epoch: 1 step: 1872, loss is 0.06654224\n",
        "epoch: 1 step: 1873, loss is 0.12267333\n",
        "epoch: 1 step: 1874, loss is 0.072500005\n",
        "epoch: 1 step: 1875, loss is 0.20904273\n",
        "============== Starting Testing ==============\n",
        "============== Accuracy:{'Accuracy': 0.9595352564102564} ==============\n",
        "</pre>\n"
      ]
    }
  ]
}